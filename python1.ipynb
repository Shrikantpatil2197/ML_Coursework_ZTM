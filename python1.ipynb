{
 "cells": [
  {
   "cell_type": "markdown",
   "metadata": {},
   "source": [
    "### python tutorial"
   ]
  },
  {
   "cell_type": "code",
   "execution_count": 8,
   "metadata": {},
   "outputs": [
    {
     "name": "stdout",
     "output_type": "stream",
     "text": [
      "you can drive now\n"
     ]
    }
   ],
   "source": [
    "# conditional logic\n",
    "is_old = True\n",
    "is_license = True\n",
    "if is_old and is_license:\n",
    "    print('you can drive now')\n",
    "# elif is_license:\n",
    "#     print('you can drive now')\n",
    "else:\n",
    "    print('you are not allowed to drive')\n"
   ]
  },
  {
   "cell_type": "code",
   "execution_count": 14,
   "metadata": {},
   "outputs": [
    {
     "name": "stdout",
     "output_type": "stream",
     "text": [
      "True and True\n",
      "you can drive now\n"
     ]
    }
   ],
   "source": [
    "# Truthy and Falsy\n",
    "is_old = ' '\n",
    "is_license = 5\n",
    "print(bool(' '),'and',bool(5))\n",
    "if is_old and is_license:\n",
    "    print('you can drive now')\n",
    "else:\n",
    "    print('you are not allowed to drive')"
   ]
  },
  {
   "cell_type": "code",
   "execution_count": 15,
   "metadata": {},
   "outputs": [
    {
     "name": "stdout",
     "output_type": "stream",
     "text": [
      "you can drive now\n"
     ]
    }
   ],
   "source": [
    "username = 'shrikant '\n",
    "password = '123'\n",
    "if username and password:   #just checks if username and password exists \n",
    "    print('you can drive now')\n",
    "else:\n",
    "    print('you are not allowed to drive')"
   ]
  },
  {
   "cell_type": "code",
   "execution_count": 17,
   "metadata": {},
   "outputs": [
    {
     "name": "stdout",
     "output_type": "stream",
     "text": [
      "msg allowed\n"
     ]
    }
   ],
   "source": [
    "# Ternary operator\n",
    "is_friend = True\n",
    "print('msg allowed') if is_friend else print('can\\'t msg')"
   ]
  },
  {
   "cell_type": "code",
   "execution_count": 26,
   "metadata": {},
   "outputs": [
    {
     "name": "stdout",
     "output_type": "stream",
     "text": [
      "best friends forever\n",
      "can't be a friend\n"
     ]
    }
   ],
   "source": [
    "# short circuiting\n",
    "is_friend = True\n",
    "is_user = False\n",
    "if is_friend or is_user:  # ignores next codition if gets any one cond true\n",
    "    print('best friends forever')\n",
    "if is_user and is_friend:\n",
    "    print('best friends forever')\n",
    "else:\n",
    "    print('can\\'t be a friend')"
   ]
  },
  {
   "cell_type": "code",
   "execution_count": 38,
   "metadata": {},
   "outputs": [
    {
     "name": "stdout",
     "output_type": "stream",
     "text": [
      "True\n",
      "False\n",
      "False\n",
      "False\n",
      "True\n",
      "False\n",
      "True\n",
      "True\n",
      "False\n"
     ]
    }
   ],
   "source": [
    "# logical operators\n",
    "print(4<5)\n",
    "print(4==5)\n",
    "print(4>5)\n",
    "print('a'>'b')\n",
    "print('a'>'A')\n",
    "print(4<1<6<7)\n",
    "print(4>=4)\n",
    "print(4 != 5)\n",
    "print(not(True))"
   ]
  },
  {
   "cell_type": "code",
   "execution_count": 44,
   "metadata": {},
   "outputs": [
    {
     "name": "stdout",
     "output_type": "stream",
     "text": [
      "you are almost there\n"
     ]
    }
   ],
   "source": [
    "is_magician = True\n",
    "is_expert = False\n",
    "if is_magician and is_expert:\n",
    "    print('you are a master magician')\n",
    "elif is_magician and not(is_expert):\n",
    "    print('you are almost there')\n",
    "elif not(is_magician):\n",
    "    print('you need magic powers')"
   ]
  },
  {
   "cell_type": "code",
   "execution_count": 55,
   "metadata": {},
   "outputs": [
    {
     "name": "stdout",
     "output_type": "stream",
     "text": [
      "True\n",
      "False\n",
      "False\n",
      "True\n",
      "True\n",
      "True\n",
      "False\n",
      "False\n",
      "True\n",
      "False\n",
      "False\n",
      "False\n",
      "False\n"
     ]
    },
    {
     "name": "stderr",
     "output_type": "stream",
     "text": [
      "<>:8: SyntaxWarning: \"is\" with a literal. Did you mean \"==\"?\n",
      "<>:9: SyntaxWarning: \"is\" with a literal. Did you mean \"==\"?\n",
      "<>:10: SyntaxWarning: \"is\" with a literal. Did you mean \"==\"?\n",
      "<>:11: SyntaxWarning: \"is\" with a literal. Did you mean \"==\"?\n",
      "<>:12: SyntaxWarning: \"is\" with a literal. Did you mean \"==\"?\n",
      "<>:8: SyntaxWarning: \"is\" with a literal. Did you mean \"==\"?\n",
      "<>:9: SyntaxWarning: \"is\" with a literal. Did you mean \"==\"?\n",
      "<>:10: SyntaxWarning: \"is\" with a literal. Did you mean \"==\"?\n",
      "<>:11: SyntaxWarning: \"is\" with a literal. Did you mean \"==\"?\n",
      "<>:12: SyntaxWarning: \"is\" with a literal. Did you mean \"==\"?\n",
      "<ipython-input-55-52d107779733>:8: SyntaxWarning: \"is\" with a literal. Did you mean \"==\"?\n",
      "  print(True is 1) # checks place in the memory\n",
      "<ipython-input-55-52d107779733>:9: SyntaxWarning: \"is\" with a literal. Did you mean \"==\"?\n",
      "  print('1' is 1)\n",
      "<ipython-input-55-52d107779733>:10: SyntaxWarning: \"is\" with a literal. Did you mean \"==\"?\n",
      "  print('1' is '1')\n",
      "<ipython-input-55-52d107779733>:11: SyntaxWarning: \"is\" with a literal. Did you mean \"==\"?\n",
      "  print([] is 1)\n",
      "<ipython-input-55-52d107779733>:12: SyntaxWarning: \"is\" with a literal. Did you mean \"==\"?\n",
      "  print(10 is 10.0)\n"
     ]
    }
   ],
   "source": [
    "print(True == 1) # checks the value\n",
    "print('1' == 1)\n",
    "print([1] == 1)\n",
    "print(10 == 10.0)\n",
    "print([] == [])\n",
    "print([1,2,3] == [1,2,3])\n",
    "\n",
    "print(True is 1) # checks place in the memory\n",
    "print('1' is 1)\n",
    "print('1' is '1')\n",
    "print([] is 1)\n",
    "print(10 is 10.0)\n",
    "print([] is [])\n",
    "print([1,2,3] is [1,2,3])"
   ]
  },
  {
   "cell_type": "code",
   "execution_count": 66,
   "metadata": {
    "scrolled": true
   },
   "outputs": [
    {
     "name": "stdout",
     "output_type": "stream",
     "text": [
      "1\n",
      "2\n",
      "3\n",
      "done!\n",
      "done!\n",
      "1 a\n",
      "1 b\n",
      "1 c\n",
      "2 a\n",
      "2 b\n",
      "2 c\n",
      "3 a\n",
      "3 b\n",
      "3 c\n"
     ]
    }
   ],
   "source": [
    "# for loops\n",
    "# for item in 'zero to mastery':\n",
    "#     print(item)\n",
    "for item in [1,2,3,'done!']:\n",
    "    print(item)\n",
    "print(item) #prints last item in the list\n",
    "# for item in (1,2,3):\n",
    "#     print(item)\n",
    "# for item in {1,2,3}:\n",
    "#     print(item)\n",
    "\n",
    "# nested loops\n",
    "for item in [1,2,3]:\n",
    "    for letter in ['a','b','c']:\n",
    "        print(item,letter)\n"
   ]
  },
  {
   "cell_type": "code",
   "execution_count": 85,
   "metadata": {},
   "outputs": [
    {
     "name": "stdout",
     "output_type": "stream",
     "text": [
      "name : shri\n",
      "age : 24\n",
      "can_swim : True\n",
      "name : shri\n",
      "age : 24\n",
      "can_swim : True\n"
     ]
    }
   ],
   "source": [
    "# iterables\n",
    "# can be a list,tuple,string,dictionary,set(any collection of objects)\n",
    "# int object is not iterable\n",
    "user = {'name':'shri','age':24,'can_swim':True}\n",
    "# print(user.keys())\n",
    "# for item in user:\n",
    "#     print(item,':',user[item])\n",
    "for item in user.items():\n",
    "    key, value = item\n",
    "    print(key,':',value)\n",
    "for key, value in user.items():\n",
    "    print(key,':',value)\n",
    "# for item in user.values():\n",
    "#     print(item)\n",
    "# for item in user.keys():\n",
    "#     print(item)"
   ]
  },
  {
   "cell_type": "code",
   "execution_count": 87,
   "metadata": {},
   "outputs": [
    {
     "name": "stdout",
     "output_type": "stream",
     "text": [
      "10 55\n"
     ]
    }
   ],
   "source": [
    "my_list = [1,2,3,4,5,6,7,8,9,10]\n",
    "sum = 0\n",
    "counter = 0 \n",
    "for i in my_list:\n",
    "    counter += 1\n",
    "    sum += i\n",
    "print(counter, sum)\n"
   ]
  },
  {
   "cell_type": "code",
   "execution_count": 94,
   "metadata": {},
   "outputs": [
    {
     "name": "stdout",
     "output_type": "stream",
     "text": [
      "range(0, 100)\n",
      "range(1, 100)\n",
      "0\n",
      "1\n",
      "2\n",
      "3\n",
      "4\n",
      "5\n",
      "6\n",
      "7\n",
      "8\n",
      "9\n",
      "[0, 1, 2, 3, 4, 5, 6, 7, 8, 9]\n"
     ]
    }
   ],
   "source": [
    "# range()\n",
    "print(range(100))  #0 to 99  ##100 times\n",
    "print(range(1,100)) #1 to 99  ##99 times\n",
    "for i in range(10): \n",
    "    print(i) #0 to 9 ##10 times\n",
    "# for i in range(0,10,2): \n",
    "#     print(i)\n",
    "# for i in range(10,0,-3): \n",
    "#     print(i)\n",
    "print(list(range(10)))"
   ]
  },
  {
   "cell_type": "code",
   "execution_count": 91,
   "metadata": {},
   "outputs": [
    {
     "name": "stdout",
     "output_type": "stream",
     "text": [
      "0 1\n",
      "1 2\n",
      "2 3\n",
      "50\n"
     ]
    }
   ],
   "source": [
    "# enumerate\n",
    "# for i,char in enumerate('Helllooo'):\n",
    "#     print(i,char)\n",
    "for i,char in enumerate([1,2,3]):\n",
    "    print(i,char)\n",
    "# for i,char in enumerate((1,2,3)):\n",
    "#     print(i,char)\n",
    "for i,char in enumerate(list(range(100))):\n",
    "    if char==50:\n",
    "        print(i)      "
   ]
  },
  {
   "cell_type": "code",
   "execution_count": 12,
   "metadata": {},
   "outputs": [
    {
     "name": "stdout",
     "output_type": "stream",
     "text": [
      "5\n",
      "6\n",
      "7\n",
      "8\n",
      "9\n",
      "while loop is done!\n",
      "5\n"
     ]
    }
   ],
   "source": [
    "# while loop\n",
    "i = 5\n",
    "while i<10:  # be carefull with infinite loops\n",
    "    print(i)\n",
    "    i = i+1\n",
    "else:            # while.........else......\n",
    "    print('while loop is done!')\n",
    "i = 5\n",
    "while i<10:  \n",
    "    print(i)\n",
    "    i = i+1\n",
    "    break            #breaking the loop\n",
    "else: \n",
    "    print('done!')  # break also get out of else block i.e. only executes \n",
    "                    # if while codition is false\n"
   ]
  },
  {
   "cell_type": "code",
   "execution_count": 14,
   "metadata": {},
   "outputs": [
    {
     "name": "stdout",
     "output_type": "stream",
     "text": [
      "1\n",
      "2\n",
      "3\n"
     ]
    }
   ],
   "source": [
    "my_list = [1,2,3]\n",
    "i = 0\n",
    "while i<len(my_list):\n",
    "    print(my_list[i])\n",
    "    i += 1\n",
    "# for iterating over iterable object use for loop. \n",
    "# for iterating over some condiotion use while loop."
   ]
  },
  {
   "cell_type": "code",
   "execution_count": 19,
   "metadata": {},
   "outputs": [
    {
     "name": "stdout",
     "output_type": "stream",
     "text": [
      "say something:njvfe\n",
      "say something:vnjvev\n",
      "say something:wvjej\n",
      "say something:bye\n"
     ]
    }
   ],
   "source": [
    "while True:      # best use of while\n",
    "    response = input('say something:')\n",
    "    if response == 'bye':\n",
    "        break"
   ]
  },
  {
   "cell_type": "code",
   "execution_count": 27,
   "metadata": {},
   "outputs": [
    {
     "name": "stdout",
     "output_type": "stream",
     "text": [
      "1\n",
      "5\n",
      "6\n",
      "7\n",
      "8\n",
      "9\n",
      "1\n",
      "4\n",
      "5\n",
      "6\n",
      "done!\n",
      "a\n",
      "b\n",
      "c\n"
     ]
    }
   ],
   "source": [
    "# break, continue and pass\n",
    "i = 1\n",
    "while i<10:  \n",
    "    print(i)\n",
    "    i = i+1\n",
    "    break \n",
    "i = 5\n",
    "while i<10:  \n",
    "    print(i)\n",
    "    i = i+1\n",
    "    continue           #continue at the top of loop\n",
    "for item in [1,2,3]:\n",
    "    print(item)\n",
    "    break               # break out of the loop\n",
    "for item in [4,5,6,'done!']:\n",
    "    print(item)\n",
    "    continue\n",
    "for item in ['a','b','c']:\n",
    "    pass                # passes to the next line\n",
    "    print(item)\n",
    "    \n",
    "for item in ['a','b','c']:\n",
    "    pass # just to pass some incomplete loops left for future planning"
   ]
  },
  {
   "cell_type": "code",
   "execution_count": 34,
   "metadata": {},
   "outputs": [
    {
     "name": "stdout",
     "output_type": "stream",
     "text": [
      "\n",
      "   *   \n",
      "  ***  \n",
      " ***** \n",
      "*******\n",
      "   *   \n",
      "   *   "
     ]
    }
   ],
   "source": [
    "# GUI (graphical user interface)\n",
    "picture = [\n",
    "  [0,0,0,1,0,0,0],\n",
    "  [0,0,1,1,1,0,0],\n",
    "  [0,1,1,1,1,1,0],\n",
    "  [1,1,1,1,1,1,1],\n",
    "  [0,0,0,1,0,0,0],\n",
    "  [0,0,0,1,0,0,0]\n",
    "]\n",
    "\n",
    "for row in range(len(picture)):\n",
    "    print('\\n',end='')\n",
    "    for column in range(len(picture[0])):\n",
    "        if picture[row][column]==0:\n",
    "            print(' ',end='')\n",
    "        else:\n",
    "            print('*',end='')"
   ]
  },
  {
   "cell_type": "code",
   "execution_count": 37,
   "metadata": {},
   "outputs": [
    {
     "name": "stdout",
     "output_type": "stream",
     "text": [
      "   $   \n",
      "  $$$  \n",
      " $$$$$ \n",
      "$$$$$$$\n",
      "   $   \n",
      "   $   \n"
     ]
    }
   ],
   "source": [
    "#good code --->> #clean  #readablity  #predictability #reusable\n",
    "picture = [\n",
    "  [0,0,0,1,0,0,0],\n",
    "  [0,0,1,1,1,0,0],\n",
    "  [0,1,1,1,1,1,0],\n",
    "  [1,1,1,1,1,1,1],\n",
    "  [0,0,0,1,0,0,0],\n",
    "  [0,0,0,1,0,0,0]\n",
    "]\n",
    "symbol1 = '$'\n",
    "symbol2 = ' '\n",
    "for row in picture:\n",
    "    for pixel in row:\n",
    "        if pixel:\n",
    "            print(symbol1,end='')\n",
    "        else:\n",
    "            print(symbol2,end='')\n",
    "    print('\\n',end='')"
   ]
  },
  {
   "cell_type": "code",
   "execution_count": 42,
   "metadata": {},
   "outputs": [
    {
     "name": "stdout",
     "output_type": "stream",
     "text": [
      "['a', 'b', 'c', 'd', 'm', 'n']\n",
      "['b', 'n']\n",
      "['b', 'n']\n"
     ]
    }
   ],
   "source": [
    "some_list = ['a','b','c','b','d','m','n','n']\n",
    "list1 = []\n",
    "list2 = []\n",
    "for item in some_list:\n",
    "    if (item in list1):\n",
    "        list2.append(item)\n",
    "    else:\n",
    "        list1.append(item)\n",
    "print(list1)\n",
    "print(list2)\n",
    "\n",
    "#or\n",
    "list2 = []\n",
    "for item in some_list:\n",
    "    if some_list.count(item)>1:\n",
    "        if (item not in list2):\n",
    "            list2.append(item)\n",
    "print(list2)\n"
   ]
  },
  {
   "cell_type": "code",
   "execution_count": 44,
   "metadata": {},
   "outputs": [
    {
     "name": "stdout",
     "output_type": "stream",
     "text": [
      "hello!\n"
     ]
    }
   ],
   "source": [
    "# Functions    # do not repeat yourself\n",
    "def say_hello():\n",
    "    print('hello!')\n",
    "say_hello()"
   ]
  },
  {
   "cell_type": "code",
   "execution_count": 50,
   "metadata": {},
   "outputs": [
    {
     "name": "stdout",
     "output_type": "stream",
     "text": [
      "   $   \n",
      "  $$$  \n",
      " $$$$$ \n",
      "$$$$$$$\n",
      "   $   \n",
      "   $   \n",
      "   $   \n",
      "  $$$  \n",
      " $$$$$ \n",
      "$$$$$$$\n",
      "   $   \n",
      "   $   \n",
      "<function show_tree at 0x000001F56A60F790>\n"
     ]
    }
   ],
   "source": [
    "picture = [\n",
    "  [0,0,0,1,0,0,0],\n",
    "  [0,0,1,1,1,0,0],\n",
    "  [0,1,1,1,1,1,0],\n",
    "  [1,1,1,1,1,1,1],\n",
    "  [0,0,0,1,0,0,0],\n",
    "  [0,0,0,1,0,0,0]\n",
    "]\n",
    "def show_tree():\n",
    "    symbol1 = '$'\n",
    "    symbol2 = ' '\n",
    "    for row in picture:\n",
    "        for pixel in row:\n",
    "            if pixel:\n",
    "                print(symbol1,end='')\n",
    "            else:\n",
    "                print(symbol2,end='')\n",
    "        print('\\n',end='')\n",
    "i=0\n",
    "while i<2:\n",
    "    show_tree()\n",
    "    i+=1\n",
    "print(show_tree)  # memory location of this function"
   ]
  },
  {
   "cell_type": "code",
   "execution_count": 61,
   "metadata": {},
   "outputs": [
    {
     "name": "stdout",
     "output_type": "stream",
     "text": [
      "Hello shrikant 😊\n",
      "Hello andrie 😍\n",
      "Hello danial 😜\n",
      "Hello shrikant 😊\n",
      "Hello shrikant 😊\n",
      "Hello shrikant 😉\n",
      "Hello raju 😁\n",
      "Hello shri 😁\n",
      "Hello raju 😉\n"
     ]
    }
   ],
   "source": [
    "# arguments and parameters\n",
    "def greet(name,emoji):   #(positional parameters)\n",
    "    print(f'Hello {name} {emoji}') \n",
    "greet('shrikant','😊')       #(positional arguments)  actual values\n",
    "greet('andrie','😍')\n",
    "greet('danial','😜')\n",
    "\n",
    "def greet(name,emoji):   #(positional parameters)\n",
    "    print(f'Hello {name} {emoji}')   \n",
    "greet(emoji = '😊',name = 'shrikant') #(keyword arguments)  actual values\n",
    "\n",
    "# try to follow positional arguments.\n",
    "\n",
    "def greet(name='raju',emoji='😁'):   #(default parameters)\n",
    "    print(f'Hello {name} {emoji}')   \n",
    "greet(emoji = '😊',name = 'shrikant')  #(keyword arguments) \n",
    "greet('shrikant','😉')         #(positional arguments) \n",
    "greet()\n",
    "greet('shri')\n",
    "greet(emoji = '😉')"
   ]
  },
  {
   "cell_type": "code",
   "execution_count": 106,
   "metadata": {},
   "outputs": [
    {
     "name": "stdout",
     "output_type": "stream",
     "text": [
      "None\n",
      "9\n",
      "9\n",
      "None\n",
      "25\n"
     ]
    }
   ],
   "source": [
    "# return\n",
    "## function should do at leaast one thing really well.\n",
    "## function should return something\n",
    "def my_sum(num1,num2):  #function without return\n",
    "    num1+num2\n",
    "print(my_sum(4,5))\n",
    "\n",
    "def my_sum(num1,num2):  #function with return\n",
    "    return num1+num2\n",
    "print(my_sum(4,5))\n",
    "\n",
    "def my_sum(num1,num2):  \n",
    "    print(num1+num2)\n",
    "print(my_sum(4,5))\n",
    "\n",
    "def my_sum(num1,num2): \n",
    "    return num1+num2\n",
    "total = my_sum(10,5)\n",
    "print(my_sum(10,total))"
   ]
  },
  {
   "cell_type": "code",
   "execution_count": 107,
   "metadata": {},
   "outputs": [
    {
     "name": "stdout",
     "output_type": "stream",
     "text": [
      "30\n"
     ]
    }
   ],
   "source": [
    "def my_sum(num1,num2):  #function with return\n",
    "    def another_func(n1,n2):\n",
    "        return n1+n2\n",
    "    return another_func(num1,num2)  # sum function exists here\n",
    "    print('Hello')  #did not execute at all\n",
    "    return 5   #did not execute at all\n",
    "total = my_sum(10,20)\n",
    "print(total)"
   ]
  },
  {
   "cell_type": "code",
   "execution_count": 76,
   "metadata": {},
   "outputs": [],
   "source": [
    "# methods vs functions\n",
    "#list(), print(),max(),min(),input()\n",
    "def some_stuff():\n",
    "    pass\n",
    "some_stuff()\n",
    "#list, tuple, dictionary, set, strings methods\n",
    "# we can built our own methods also like functions"
   ]
  },
  {
   "cell_type": "code",
   "execution_count": 82,
   "metadata": {},
   "outputs": [
    {
     "name": "stdout",
     "output_type": "stream",
     "text": [
      "!!!\n",
      "Help on function test in module __main__:\n",
      "\n",
      "test(a)\n",
      "    Info:tests and prints parameter a\n",
      "\n",
      "\n",
      "    Info:tests and prints parameter a\n",
      "    \n"
     ]
    }
   ],
   "source": [
    "# Docstrings  # your comments on function others.\n",
    "def test(a):\n",
    "    '''\n",
    "    Info:tests and prints parameter a    \n",
    "    '''\n",
    "    print(a)\n",
    "test('!!!')\n",
    "help(test)\n",
    "print(test.__doc__)"
   ]
  },
  {
   "cell_type": "code",
   "execution_count": 85,
   "metadata": {},
   "outputs": [
    {
     "name": "stdout",
     "output_type": "stream",
     "text": [
      "False\n",
      "False\n",
      "False\n"
     ]
    }
   ],
   "source": [
    "#clean code\n",
    "\n",
    "def is_even(num):\n",
    "    if num%2==0:\n",
    "        return True\n",
    "    else:\n",
    "        return False\n",
    "print(is_even(51))\n",
    "\n",
    "# or\n",
    "\n",
    "def is_even(num):\n",
    "    if num%2==0:\n",
    "        return True\n",
    "    return False\n",
    "print(is_even(51))\n",
    "\n",
    "#or\n",
    "\n",
    "def is_even(num):\n",
    "    return num%2==0\n",
    "print(is_even(51))"
   ]
  },
  {
   "cell_type": "code",
   "execution_count": 4,
   "metadata": {},
   "outputs": [
    {
     "name": "stdout",
     "output_type": "stream",
     "text": [
      "(1, 2, 3, 4, 5)\n",
      "1 2 3 4 5\n",
      "(1, 2, 3, 4, 5) {'num1': 10, 'num2': 5}\n",
      "30\n"
     ]
    }
   ],
   "source": [
    "# *args and **kwargs\n",
    "def super_func(*args):\n",
    "    print(args)\n",
    "    return min(args)         # min() is available python function\n",
    "super_func(1,2,3,4,5)\n",
    "\n",
    "def super_func(*args):\n",
    "    print(*args)\n",
    "    return min(args)\n",
    "super_func(1,2,3,4,5)\n",
    "    \n",
    "def super_func(*args, **kwargs):\n",
    "    total = 0\n",
    "    print(args, kwargs)\n",
    "    for item in kwargs.values():\n",
    "        total += item\n",
    "    return sum(args) + total\n",
    "print(super_func(1,2,3,4,5,num1=10,num2=5))\n"
   ]
  },
  {
   "cell_type": "code",
   "execution_count": 8,
   "metadata": {},
   "outputs": [
    {
     "name": "stdout",
     "output_type": "stream",
     "text": [
      "Hello shrikant,\n",
      "performing your calculations.....\n",
      "(1, 2, 3, 4, 5) {'num1': 10, 'num2': 5}\n",
      "sum is: 30\n"
     ]
    }
   ],
   "source": [
    "# standard order\n",
    "# our actual parameters >> *args  >> default parameters  >>  **kwargs\n",
    "def super_func(name,*args,i='Hello',**kwargs):\n",
    "    print(f'{i} {name},\\nperforming your calculations.....')\n",
    "    total = 0\n",
    "    print(args, kwargs)\n",
    "    for item in kwargs.values():\n",
    "        total += item\n",
    "    return sum(args) + total\n",
    "print('sum is:',super_func('shrikant',1,2,3,4,5,num1=10,num2=5))"
   ]
  },
  {
   "cell_type": "code",
   "execution_count": 10,
   "metadata": {},
   "outputs": [
    {
     "name": "stdout",
     "output_type": "stream",
     "text": [
      "80\n"
     ]
    }
   ],
   "source": [
    "def highest_even(li):\n",
    "    highest = 0\n",
    "    for item in li:\n",
    "        if item%2==0:\n",
    "            if highest<item:\n",
    "                highest = item\n",
    "    return highest\n",
    "print(highest_even([10,80,2,3,4,8,11]))"
   ]
  },
  {
   "cell_type": "code",
   "execution_count": 15,
   "metadata": {},
   "outputs": [
    {
     "name": "stdout",
     "output_type": "stream",
     "text": [
      "100\n",
      "10\n"
     ]
    }
   ],
   "source": [
    "#scope\n",
    "# what variables do i have access to?\n",
    "#print(ilvhfebvhfb()) ## name error because not defined yet in this scope\n",
    "total = 100  #with global scope\n",
    "def some_fun(total):\n",
    "    num = 50  #with function scope\n",
    "    return total\n",
    "# print(num)  ## name error\n",
    "print(some_fun(total))\n",
    "if True:\n",
    "    x=10   #with global scope\n",
    "print(x)"
   ]
  },
  {
   "cell_type": "code",
   "execution_count": 16,
   "metadata": {},
   "outputs": [
    {
     "name": "stdout",
     "output_type": "stream",
     "text": [
      "1\n",
      "5\n"
     ]
    }
   ],
   "source": [
    "# scope rules\n",
    "a = 1\n",
    "def confusion():   #parameters are local variables\n",
    "    a = 5\n",
    "    return a\n",
    "print(a)\n",
    "print(confusion())"
   ]
  },
  {
   "cell_type": "code",
   "execution_count": 37,
   "metadata": {},
   "outputs": [
    {
     "name": "stdout",
     "output_type": "stream",
     "text": [
      "1\n",
      "2\n",
      "3\n",
      "1\n",
      "1\n",
      "3\n",
      "[1]\n",
      "[1, 1]\n",
      "[1, 1, 1]\n"
     ]
    }
   ],
   "source": [
    "# global keyword\n",
    "total = 0\n",
    "def count():\n",
    "    global total\n",
    "    total += 1\n",
    "    return total\n",
    "print(count())\n",
    "print(count())\n",
    "print(count())\n",
    "\n",
    "#or\n",
    "total = 0\n",
    "def count(total):\n",
    "    total += 1\n",
    "    return total\n",
    "print(count(total))\n",
    "print(count(total))\n",
    "print(count(count(count(total))))\n",
    "\n",
    "\n",
    "# objects ouside can be modified inside the function. \n",
    "total = []\n",
    "def count():\n",
    "#     global total\n",
    "    total.append(1) \n",
    "    return total\n",
    "print(count())\n",
    "print(count())\n",
    "print(count())"
   ]
  },
  {
   "cell_type": "code",
   "execution_count": 38,
   "metadata": {},
   "outputs": [
    {
     "name": "stdout",
     "output_type": "stream",
     "text": [
      "inner: nonlocal\n",
      "outer: nonlocal\n"
     ]
    }
   ],
   "source": [
    "# nonlocal keyword\n",
    "def outer():\n",
    "    x = 'local'\n",
    "    def inner():\n",
    "        nonlocal x\n",
    "        x = 'nonlocal'\n",
    "        print('inner:',x)\n",
    "    inner()\n",
    "    print('outer:',x)\n",
    "outer()"
   ]
  },
  {
   "cell_type": "code",
   "execution_count": 49,
   "metadata": {},
   "outputs": [
    {
     "name": "stdout",
     "output_type": "stream",
     "text": [
      "[2, 4, 6]\n",
      "[2, 4, 6]\n"
     ]
    }
   ],
   "source": [
    "# pure functions\n",
    "# no side effects(outside the function scope)\n",
    "# also does not print anything \n",
    "# bugs outside function body should not affect function \n",
    "def multiply(li):\n",
    "    new_li = []\n",
    "    for i in li:\n",
    "        new_li.append(i * 2)\n",
    "    return new_li\n",
    "print(multiply([1,2,3]))\n",
    "\n",
    "# not pure function\n",
    "new_li = []\n",
    "def multiply(li):\n",
    "    for i in li:\n",
    "        new_li.append(i * 2)\n",
    "    return new_li\n",
    "print(multiply([1,2,3]))"
   ]
  },
  {
   "cell_type": "code",
   "execution_count": 57,
   "metadata": {},
   "outputs": [
    {
     "name": "stdout",
     "output_type": "stream",
     "text": [
      "[2, 4, 6]\n",
      "[2, 4, 6]\n",
      "[1, 2, 3]\n"
     ]
    }
   ],
   "source": [
    "# map(function,iterable data)\n",
    "def multiply(item):\n",
    "    return item * 2\n",
    "print(list(map(multiply,[1,2,3])))\n",
    "\n",
    "# or\n",
    "my_list = [1,2,3]\n",
    "def multiply(item):\n",
    "    return item * 2\n",
    "print(list(map(multiply,my_list)))\n",
    "print(my_list)  # does not affect original list hence it is pure function."
   ]
  },
  {
   "cell_type": "code",
   "execution_count": 70,
   "metadata": {},
   "outputs": [
    {
     "name": "stdout",
     "output_type": "stream",
     "text": [
      "[1, 3, 5, 7, 9]\n",
      "[0, 1, 2, 3, 4, 5, 6, 7, 8, 9]\n"
     ]
    }
   ],
   "source": [
    "# filter(function,iterable data)\n",
    "my_list = list(range(10))\n",
    "def only_odd(item):\n",
    "    return not(item%2==0) # should return only True or False value\n",
    "print(list(filter(only_odd,my_list)))# retains only values that return true\n",
    "print(my_list) "
   ]
  },
  {
   "cell_type": "code",
   "execution_count": 78,
   "metadata": {},
   "outputs": [
    {
     "name": "stdout",
     "output_type": "stream",
     "text": [
      "[(1, 10), (2, 20), (3, 30), (4, 40)]\n",
      "[(1, 10, 5), (2, 20, 4), (3, 30, 3), (4, 40, 2)]\n"
     ]
    }
   ],
   "source": [
    "# zip(iterable data1,iterable data2,.....)\n",
    "my_list = [1,2,3,4,5]\n",
    "your_list = [10,20,30,40]\n",
    "print(list(zip(my_list,your_list)))\n",
    "\n",
    "my_list = (1,2,3,4,5)\n",
    "your_list = (10,20,30,40)\n",
    "their_list = (5,4,3,2,8,9)\n",
    "print(list(zip(my_list,your_list,their_list)))"
   ]
  },
  {
   "cell_type": "code",
   "execution_count": 84,
   "metadata": {},
   "outputs": [
    {
     "name": "stdout",
     "output_type": "stream",
     "text": [
      "5 1\n",
      "6 2\n",
      "8 3\n",
      "11 4\n",
      "15 5\n",
      "20\n"
     ]
    }
   ],
   "source": [
    "# reduce(function,iterable data)\n",
    "from functools import reduce\n",
    "my_list = [1,2,3,4,5]\n",
    "def accumulator(acc,item):\n",
    "    print(acc,item)\n",
    "    return acc + item\n",
    "print(reduce(accumulator,my_list,5))  # acc 0"
   ]
  },
  {
   "cell_type": "markdown",
   "metadata": {},
   "source": [
    "### comprehensions"
   ]
  },
  {
   "cell_type": "code",
   "execution_count": 99,
   "metadata": {},
   "outputs": [
    {
     "name": "stdout",
     "output_type": "stream",
     "text": [
      "['h', 'e', 'l', 'l', 'o']\n",
      "['h', 'e', 'l', 'l', 'o']\n",
      "[0, 2, 4, 6, 8, 10, 12, 14, 16, 18, 20, 22, 24, 26, 28, 30, 32, 34, 36, 38, 40, 42, 44, 46, 48, 50, 52, 54, 56, 58, 60, 62, 64, 66, 68, 70, 72, 74, 76, 78, 80, 82, 84, 86, 88, 90, 92, 94, 96, 98, 100, 102, 104, 106, 108, 110, 112, 114, 116, 118, 120, 122, 124, 126, 128, 130, 132, 134, 136, 138, 140, 142, 144, 146, 148, 150, 152, 154, 156, 158, 160, 162, 164, 166, 168, 170, 172, 174, 176, 178, 180, 182, 184, 186, 188, 190, 192, 194, 196, 198]\n",
      "[0, 4, 16, 36, 64, 100, 144, 196, 256, 324, 400, 484, 576, 676, 784, 900, 1024, 1156, 1296, 1444, 1600, 1764, 1936, 2116, 2304, 2500, 2704, 2916, 3136, 3364, 3600, 3844, 4096, 4356, 4624, 4900, 5184, 5476, 5776, 6084, 6400, 6724, 7056, 7396, 7744, 8100, 8464, 8836, 9216, 9604]\n"
     ]
    }
   ],
   "source": [
    "# list comprehensions\n",
    "my_list = []\n",
    "for char in 'hello':\n",
    "    my_list.append(char)\n",
    "print(my_list)\n",
    "\n",
    "my_list = [char for char in 'hello']\n",
    "print(my_list)\n",
    "my_list2 = [num*2 for num in range(0,100)]\n",
    "print(my_list2)\n",
    "my_list3 = [num**2 for num in range(0,100) if num%2==0]\n",
    "print(my_list3)"
   ]
  },
  {
   "cell_type": "code",
   "execution_count": 101,
   "metadata": {},
   "outputs": [
    {
     "name": "stdout",
     "output_type": "stream",
     "text": [
      "{'h', 'e', 'o', 'l'}\n",
      "{0, 2, 4, 6, 8, 10, 12, 14, 16, 18, 20, 22, 24, 26, 28, 30, 32, 34, 36, 38, 40, 42, 44, 46, 48, 50, 52, 54, 56, 58, 60, 62, 64, 66, 68, 70, 72, 74, 76, 78, 80, 82, 84, 86, 88, 90, 92, 94, 96, 98, 100, 102, 104, 106, 108, 110, 112, 114, 116, 118, 120, 122, 124, 126, 128, 130, 132, 134, 136, 138, 140, 142, 144, 146, 148, 150, 152, 154, 156, 158, 160, 162, 164, 166, 168, 170, 172, 174, 176, 178, 180, 182, 184, 186, 188, 190, 192, 194, 196, 198}\n",
      "{0, 256, 1024, 2304, 4, 900, 1156, 3844, 4096, 4356, 8836, 9604, 16, 144, 400, 784, 1296, 1936, 2704, 3600, 4624, 5776, 9216, 36, 676, 1444, 3364, 4900, 8100, 7056, 7744, 64, 576, 1600, 3136, 196, 324, 2116, 2500, 5184, 6084, 6400, 6724, 8464, 100, 484, 1764, 2916, 5476, 7396}\n"
     ]
    }
   ],
   "source": [
    "# set comprehensions\n",
    "my_set = {char for char in 'hello'}\n",
    "print(my_set)\n",
    "my_set2 = {num*2 for num in range(0,100)}\n",
    "print(my_set2)\n",
    "my_set3 = {num**2 for num in range(0,100) if num%2==0}\n",
    "print(my_set3)"
   ]
  },
  {
   "cell_type": "code",
   "execution_count": 108,
   "metadata": {},
   "outputs": [
    {
     "name": "stdout",
     "output_type": "stream",
     "text": [
      "{'a': 1, 'b': 4}\n",
      "{0: 0, 2: 4, 4: 16, 6: 36, 8: 64, 10: 100, 12: 144, 14: 196, 16: 256, 18: 324, 20: 400, 22: 484, 24: 576, 26: 676, 28: 784, 30: 900, 32: 1024, 34: 1156, 36: 1296, 38: 1444, 40: 1600, 42: 1764, 44: 1936, 46: 2116, 48: 2304, 50: 2500, 52: 2704, 54: 2916, 56: 3136, 58: 3364, 60: 3600, 62: 3844, 64: 4096, 66: 4356, 68: 4624, 70: 4900, 72: 5184, 74: 5476, 76: 5776, 78: 6084, 80: 6400, 82: 6724, 84: 7056, 86: 7396, 88: 7744, 90: 8100, 92: 8464, 94: 8836, 96: 9216, 98: 9604}\n",
      "{1: 1, 2: 4, 3: 9, 4: 16}\n"
     ]
    }
   ],
   "source": [
    "# dictionary comprehensions\n",
    "simple_dict = {'a':1,'b':2}\n",
    "my_dict = {key:value**2 for key,value in simple_dict.items()}\n",
    "my_dict2 = {key:value**2 for key,value in enumerate(range(100)) if value%2==0}\n",
    "print(my_dict)\n",
    "print(my_dict2)\n",
    "my_dict3 = {item:item**2 for item in [1,2,3,4]}\n",
    "print(my_dict3)"
   ]
  },
  {
   "cell_type": "code",
   "execution_count": 111,
   "metadata": {},
   "outputs": [
    {
     "name": "stdout",
     "output_type": "stream",
     "text": [
      "['b', 'n']\n"
     ]
    }
   ],
   "source": [
    "# some_list = ['a', 'b', 'c', 'b', 'd', 'm', 'n', 'n']\n",
    "\n",
    "# duplicates = []\n",
    "# for value in some_list:\n",
    "#     if some_list.count(value) > 1:\n",
    "#         if value not in duplicates:\n",
    "#             duplicates.append(value)\n",
    "\n",
    "# print(duplicates)\n",
    "some_list = ['a', 'b', 'c', 'b', 'd', 'm', 'n', 'n']\n",
    "duplicates = list({char for char in some_list if (some_list.count(char)>1)})\n",
    "print(duplicates)"
   ]
  },
  {
   "cell_type": "code",
   "execution_count": null,
   "metadata": {},
   "outputs": [],
   "source": []
  },
  {
   "cell_type": "code",
   "execution_count": null,
   "metadata": {},
   "outputs": [],
   "source": []
  },
  {
   "cell_type": "code",
   "execution_count": null,
   "metadata": {},
   "outputs": [],
   "source": []
  }
 ],
 "metadata": {
  "kernelspec": {
   "display_name": "Python 3",
   "language": "python",
   "name": "python3"
  },
  "language_info": {
   "codemirror_mode": {
    "name": "ipython",
    "version": 3
   },
   "file_extension": ".py",
   "mimetype": "text/x-python",
   "name": "python",
   "nbconvert_exporter": "python",
   "pygments_lexer": "ipython3",
   "version": "3.8.3"
  }
 },
 "nbformat": 4,
 "nbformat_minor": 4
}
