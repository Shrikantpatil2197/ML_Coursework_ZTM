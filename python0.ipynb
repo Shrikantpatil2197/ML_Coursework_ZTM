{
 "cells": [
  {
   "cell_type": "markdown",
   "metadata": {},
   "source": [
    "python tutorials"
   ]
  },
  {
   "cell_type": "code",
   "execution_count": 77,
   "metadata": {},
   "outputs": [
    {
     "name": "stdout",
     "output_type": "stream",
     "text": [
      "<class 'int'>\n",
      "<class 'int'>\n"
     ]
    }
   ],
   "source": [
    "print(type(6))\n",
    "print(type(2**3))"
   ]
  },
  {
   "cell_type": "code",
   "execution_count": null,
   "metadata": {},
   "outputs": [],
   "source": [
    "round(3.1)"
   ]
  },
  {
   "cell_type": "code",
   "execution_count": null,
   "metadata": {},
   "outputs": [],
   "source": [
    "round(3.9)"
   ]
  },
  {
   "cell_type": "code",
   "execution_count": null,
   "metadata": {},
   "outputs": [],
   "source": [
    "abs(-20)"
   ]
  },
  {
   "cell_type": "code",
   "execution_count": null,
   "metadata": {},
   "outputs": [],
   "source": [
    "#operator precedence\n",
    "# (),**,* /, + -"
   ]
  },
  {
   "cell_type": "code",
   "execution_count": null,
   "metadata": {},
   "outputs": [],
   "source": [
    "10//7"
   ]
  },
  {
   "cell_type": "code",
   "execution_count": null,
   "metadata": {},
   "outputs": [],
   "source": [
    "#complex\n",
    "print(bin(5))\n",
    "print(int('101',2))"
   ]
  },
  {
   "cell_type": "code",
   "execution_count": 1,
   "metadata": {},
   "outputs": [
    {
     "name": "stdout",
     "output_type": "stream",
     "text": [
      "95.0\n",
      "5\n"
     ]
    }
   ],
   "source": [
    "#variables\n",
    "iq = 190\n",
    "print(iq/2)\n",
    "bin(iq)\n",
    "_ = 5\n",
    "print(_)\n",
    "# print = 5    dont overwrite varible names with keywords\n",
    "# print(print)\n"
   ]
  },
  {
   "cell_type": "code",
   "execution_count": 2,
   "metadata": {},
   "outputs": [],
   "source": [
    "#constants\n",
    "PI = 3.142 #good convention"
   ]
  },
  {
   "cell_type": "code",
   "execution_count": 4,
   "metadata": {},
   "outputs": [
    {
     "name": "stdout",
     "output_type": "stream",
     "text": [
      "1 2 3\n",
      "1\n"
     ]
    }
   ],
   "source": [
    "a,b,c = 1,2,3\n",
    "print(a,b,c)\n",
    "print(a)"
   ]
  },
  {
   "cell_type": "code",
   "execution_count": 6,
   "metadata": {},
   "outputs": [
    {
     "name": "stdout",
     "output_type": "stream",
     "text": [
      "20.0\n"
     ]
    }
   ],
   "source": [
    "# Expressions vs statements\n",
    "iq =100\n",
    "user_age = iq/5 #iq/5 is expression and whole line of code is statement\n",
    "print(user_age)"
   ]
  },
  {
   "cell_type": "code",
   "execution_count": 8,
   "metadata": {},
   "outputs": [
    {
     "name": "stdout",
     "output_type": "stream",
     "text": [
      "11\n"
     ]
    }
   ],
   "source": [
    "#augmented assignment operator\n",
    "some_value = 5\n",
    "some_value = 5+2\n",
    "some_value = some_value + 2\n",
    "some_value += 2 #-=, *=, /=\n",
    "print(some_value)\n"
   ]
  },
  {
   "cell_type": "code",
   "execution_count": 17,
   "metadata": {},
   "outputs": [
    {
     "name": "stdout",
     "output_type": "stream",
     "text": [
      "\n",
      "wow\n",
      "0 0\n",
      "---\n",
      "\n",
      "shrikant\n",
      "shrikant patil\n"
     ]
    }
   ],
   "source": [
    "#strings\n",
    "type('01 hi hello there')\n",
    "username = 'shrikant'\n",
    "password = 'supersecret'\n",
    "long_string = '''\n",
    "wow\n",
    "0 0\n",
    "---\n",
    "'''\n",
    "print(long_string)\n",
    "print(username)\n",
    "print(username + ' ' +'patil')"
   ]
  },
  {
   "cell_type": "code",
   "execution_count": 21,
   "metadata": {},
   "outputs": [
    {
     "name": "stdout",
     "output_type": "stream",
     "text": [
      "hello shri\n"
     ]
    }
   ],
   "source": [
    "#string concatenation\n",
    "print('hello' + ' shri')\n",
    "# print('hello' + 5) Type error"
   ]
  },
  {
   "cell_type": "code",
   "execution_count": 25,
   "metadata": {},
   "outputs": [
    {
     "name": "stdout",
     "output_type": "stream",
     "text": [
      "<class 'str'>\n",
      "<class 'int'>\n",
      "<class 'int'>\n"
     ]
    }
   ],
   "source": [
    "#type conversion\n",
    "print(type(str(100)))\n",
    "print(type((100)))\n",
    "print(type(int(str(100))))\n"
   ]
  },
  {
   "cell_type": "code",
   "execution_count": 32,
   "metadata": {},
   "outputs": [
    {
     "name": "stdout",
     "output_type": "stream",
     "text": [
      "\t it's 'kind of'sunny \n",
      " have a good day!\n"
     ]
    }
   ],
   "source": [
    "# Escape sequence\n",
    "weather = \"it's sunny\"\n",
    "weather = 'it\\'s \\'kind of\\'sunny'\n",
    "weather = '\\t it\\'s \\'kind of\\'sunny \\n have a good day!'\n",
    "print(weather)\n"
   ]
  },
  {
   "cell_type": "code",
   "execution_count": 38,
   "metadata": {},
   "outputs": [
    {
     "name": "stdout",
     "output_type": "stream",
     "text": [
      "hi shri.you are 24 years old.\n",
      "hi shri.you are 24 years old.\n",
      "hi shri.you are 24 years old.\n",
      "hi 24.you are shri years old.\n"
     ]
    }
   ],
   "source": [
    "#formatted strings\n",
    "username = 'shri'\n",
    "user_age = 24\n",
    "print('hi ' + username + '.you are ' + str(user_age) + ' years old.')\n",
    "print(f'hi {username}.you are {user_age} years old.')\n",
    "print('hi {}.you are {} years old.'.format(username,user_age))\n",
    "print('hi {1}.you are {0} years old.'.format(username,user_age))"
   ]
  },
  {
   "cell_type": "code",
   "execution_count": 52,
   "metadata": {},
   "outputs": [
    {
     "name": "stdout",
     "output_type": "stream",
     "text": [
      "m e   e\n",
      "me\n",
      "m em\n",
      "me me me\n",
      "me me\n",
      "me me me\n",
      "e\n",
      "e\n",
      "em em em\n",
      "e me\n"
     ]
    }
   ],
   "source": [
    "#string indexes\n",
    "str1 = 'me me me'\n",
    "#       01234567\n",
    "print(str1[0],str1[1],str1[2],str1[7])\n",
    "# print(str1[8]) index error\n",
    "#[start:stop:step_size]\n",
    "# 7219344535\n",
    "print(str1[0:2]) #str1[2] not included\n",
    "print(str1[0:8:2])\n",
    "print(str1[0:])\n",
    "print(str1[:5]) #0 to 4\n",
    "print(str1[::1])\n",
    "print(str1[-1])\n",
    "print(str1[-7])\n",
    "print(str1[::-1]) #reverse string\n",
    "print(str1[::-2])"
   ]
  },
  {
   "cell_type": "code",
   "execution_count": 56,
   "metadata": {},
   "outputs": [
    {
     "name": "stdout",
     "output_type": "stream",
     "text": [
      "01234567\n"
     ]
    }
   ],
   "source": [
    "#string immutability\n",
    "a = '01234567'\n",
    "print(a)\n",
    "# a[4] = 2 string object does not support item assignment\n",
    "# print(a)"
   ]
  },
  {
   "cell_type": "code",
   "execution_count": 72,
   "metadata": {},
   "outputs": [
    {
     "name": "stdout",
     "output_type": "stream",
     "text": [
      "8\n",
      "01234567\n",
      "01234567\n",
      "to be or not to be\n",
      "TO BE OR NOT TO BE\n",
      "To be or not to be\n",
      "to be or not to be\n",
      "3\n",
      "to me or not to me\n",
      "to be or not to be\n",
      "TO BE OR NOT TO BE\n"
     ]
    }
   ],
   "source": [
    "#built in functions and methods\n",
    "a = '01234567'\n",
    "print(len(a))\n",
    "print(a[:])\n",
    "print(a[0:len(a)])\n",
    "#string methods\n",
    "q = 'to be or not to be'\n",
    "print(q)\n",
    "print(q.upper())\n",
    "print(q.capitalize())\n",
    "print(q.lower())\n",
    "print(q.find('be'))\n",
    "q2 = q.replace('be','me')\n",
    "print(q2)\n",
    "print(q) # methods do not change original string but creates new one!\n",
    "q = q.upper()\n",
    "print(q)"
   ]
  },
  {
   "cell_type": "code",
   "execution_count": 76,
   "metadata": {},
   "outputs": [
    {
     "name": "stdout",
     "output_type": "stream",
     "text": [
      "True\n",
      "False\n",
      "True\n",
      "1\n"
     ]
    }
   ],
   "source": [
    "#booleans\n",
    "name = 'shri'\n",
    "is_cool = False #logical value 0\n",
    "is_cool = True # logical value 1\n",
    "print(bool(1))\n",
    "print(bool(0))\n",
    "print(bool(100))\n",
    "print(int(True))"
   ]
  },
  {
   "cell_type": "code",
   "execution_count": 81,
   "metadata": {},
   "outputs": [
    {
     "name": "stdout",
     "output_type": "stream",
     "text": [
      "it's complicated\n",
      "what is your birth year?1997\n",
      "your age is:24\n"
     ]
    }
   ],
   "source": [
    "#Type conversion\n",
    "name = 'shrikant'\n",
    "age = 24\n",
    "relationship_status = 'single'\n",
    "relationship_status = 'it\\'s complicated'\n",
    "print(relationship_status)\n",
    "birth_year = int(input('what is your birth year?'))\n",
    "print(f'your age is:{2021 - birth_year}')\n"
   ]
  },
  {
   "cell_type": "code",
   "execution_count": 92,
   "metadata": {},
   "outputs": [
    {
     "name": "stdout",
     "output_type": "stream",
     "text": [
      "what's your name: shri\n",
      "enter password: lkjgoieofbdgbgb\n",
      "Hey shri, your password *************** is 15 letters long.\n"
     ]
    }
   ],
   "source": [
    "user_name = input('what\\'s your name: ')\n",
    "password = input('enter password: ')\n",
    "pass_length = len(password)\n",
    "print(f'Hey {user_name}, your password {\"*\" * pass_length} is {pass_length} letters long.')"
   ]
  },
  {
   "cell_type": "code",
   "execution_count": 169,
   "metadata": {},
   "outputs": [
    {
     "name": "stdout",
     "output_type": "stream",
     "text": [
      "[1, 2, 3, 4, 5, 8]\n",
      "25\n",
      "['notebooks', 'sunglasses', 'toys', 'grapes']\n"
     ]
    }
   ],
   "source": [
    "#lists (data structure)\n",
    "li = [1,2,3,4,5]\n",
    "new_li = li +[8]\n",
    "print(new_li)\n",
    "li2 = ['a','b','c']\n",
    "li3 = [1,2,'a',True]\n",
    "# print(li,li2,li3)\n",
    "amazon_cart = ['25','sunglasses','toys','grapes']\n",
    "print(amazon_cart[0])\n",
    "amazon_cart[0] = 'notebooks' #lists are mutable\n",
    "print(amazon_cart)\n"
   ]
  },
  {
   "cell_type": "code",
   "execution_count": 170,
   "metadata": {},
   "outputs": [
    {
     "name": "stdout",
     "output_type": "stream",
     "text": [
      "he\n",
      "['notebooks', 'sunglasses']\n",
      "['notebooks', 'toys']\n",
      "['sunglasses', 'toys']\n",
      "['notebooks', 'sunglasses', 'toys', 'grapes']\n",
      "['gum', 'sunglasses', 'toys', 'grapes']\n",
      "['gum', 'sunglasses', 'toys', 'grapes']\n",
      "['notebooks', 'sunglasses', 'toys', 'grapes']\n",
      "['gum', 'sunglasses', 'toys', 'grapes']\n",
      "heiuve\n",
      "Oranges\n"
     ]
    }
   ],
   "source": [
    "# list slicing\n",
    "string = 'helllooo'\n",
    "print(string[0:2:1])\n",
    "print(amazon_cart[0:2])\n",
    "print(amazon_cart[0::2])\n",
    "print(amazon_cart[1:3])\n",
    "print(amazon_cart) #list slicing does not change original list\n",
    "# very important\n",
    "new_cart = amazon_cart\n",
    "new_cart[0]='gum' #unexceptedly also changes the amazon_cart\n",
    "print(new_cart)\n",
    "print(amazon_cart)\n",
    "#to avoid this\n",
    "new_cart = amazon_cart[:] #list copying[will not change amazon_cart]\n",
    "new_cart[0] = 'notebooks'\n",
    "print(new_cart)\n",
    "print(amazon_cart) \n",
    "\n",
    "#same operations with strings\n",
    "string1 = 'heiuve'\n",
    "string2 = string1\n",
    "string2 = 'hjvoodv'\n",
    "print(string1) #does not change original string as in the case of lists.\n",
    "\n",
    "basket = [\"Banana\", [\"Apples\", [\"Oranges\"], \"Blueberries\"]];\n",
    "print(basket[1][1][0])"
   ]
  },
  {
   "cell_type": "code",
   "execution_count": 119,
   "metadata": {},
   "outputs": [
    {
     "name": "stdout",
     "output_type": "stream",
     "text": [
      "[[1, 2, 3], [4, 5, 6], [7, 8, 9]]\n",
      "[1, 2, 3]\n",
      "2\n"
     ]
    }
   ],
   "source": [
    "#matrix[2d-lists]\n",
    "matrix = [\n",
    "    [1,2,3],\n",
    "    [4,5,6],\n",
    "    [7,8,9]\n",
    "]\n",
    "print(matrix)\n",
    "print(matrix[0])\n",
    "print(matrix[0][1])"
   ]
  },
  {
   "cell_type": "code",
   "execution_count": 129,
   "metadata": {},
   "outputs": [
    {
     "name": "stdout",
     "output_type": "stream",
     "text": [
      "fkde\n",
      "Fkde\n",
      "5\n",
      "None\n",
      "[1, 2, 3, 4, 5, 100]\n",
      "None\n",
      "[1, 2, 3, 4, 100, 5, 100]\n",
      "[1, 2, 3, 4, 100, 5, 100, 101, 102]\n",
      "[1, 2, 3, 4, 100, 5, 100, 101]\n",
      "[1, 2, 3, 4, 100, 5, 100]\n",
      "[2, 3, 4, 100, 5, 100]\n",
      "[2, 3, 100, 5, 100]\n",
      "100\n",
      "[2, 3, 100, 5]\n",
      "[]\n"
     ]
    }
   ],
   "source": [
    "#list methods1\n",
    "# modifies list in place does not creat new copy unlike strings\n",
    "string = 'fkde'\n",
    "new_string = string.capitalize() #original string unaltered\n",
    "print(string)\n",
    "print(new_string) #new copy is formed\n",
    "basket = [1,2,3,4,5]\n",
    "print(len(basket))\n",
    "new_basket = basket.append(100) #appended in place\n",
    "print(new_basket) #new_basket is not stored if do not returns any value\n",
    "print(basket)\n",
    "print(basket.insert(4,100))\n",
    "print(basket)\n",
    "basket.extend([101,102])\n",
    "print(basket)\n",
    "basket.pop()\n",
    "print(basket)\n",
    "basket.pop()\n",
    "print(basket)\n",
    "basket.pop(0) #removes value at index\n",
    "print(basket)\n",
    "basket.remove(4) #removes value\n",
    "print(basket)\n",
    "print(basket.pop(4)) #returns the value that is removed\n",
    "print(basket)\n",
    "basket.clear() #clears the list\n",
    "print(basket)"
   ]
  },
  {
   "cell_type": "code",
   "execution_count": 167,
   "metadata": {},
   "outputs": [
    {
     "name": "stdout",
     "output_type": "stream",
     "text": [
      "['x', 'a', 'b', 'c', 'd', 'e']\n",
      "4\n",
      "4\n",
      "True\n",
      "True\n",
      "1\n",
      "['x', 'a', 'b', 'c', 'd', 'e']\n",
      "['a', 'b', 'c', 'd', 'e', 'x']\n",
      "['x', 'a', 'b', 'c', 'd', 'e']\n",
      "None\n",
      "['a', 'b', 'c', 'd', 'e', 'x']\n",
      "['a', 'b', 'c', 'd', 'e', 'x']\n",
      "['a', 'b', 'c', 'd', 'e', 'x']\n",
      "None\n",
      "['x', 'e', 'd', 'c', 'b', 'a']\n"
     ]
    }
   ],
   "source": [
    "#list methods 2\n",
    "basket = ['x','a','b','c','d','e']\n",
    "print(basket)\n",
    "print(basket.index('d')) #where is 'd'\n",
    "print(basket.index('d',0,5)) #search between index 0 and 4\n",
    "print('d' in basket)\n",
    "print('i' in 'shrikant')\n",
    "print(basket.count('d'))\n",
    "\n",
    "#list methods 3\n",
    "print(basket)\n",
    "print(sorted(basket)) #{function}produces new array without changing original basket\n",
    "print(basket)\n",
    "print(basket.sort())\n",
    "print(basket) #{method}just changes the original array\n",
    "new_basket = basket.copy()\n",
    "print(new_basket)\n",
    "print(basket)\n",
    "print(basket.reverse())\n",
    "print(basket)"
   ]
  },
  {
   "cell_type": "code",
   "execution_count": 184,
   "metadata": {},
   "outputs": [
    {
     "name": "stdout",
     "output_type": "stream",
     "text": [
      "['x', 'e', 'd', 'd', 'c', 'b', 'a']\n",
      "['a', 'b', 'c', 'd', 'd', 'e', 'x']\n",
      "['x', 'e', 'd', 'd', 'c', 'b', 'a']\n",
      "range(1, 100)\n",
      "[1, 2, 3, 4, 5, 6, 7, 8, 9, 10, 11, 12, 13, 14, 15, 16, 17, 18, 19, 20, 21, 22, 23, 24, 25, 26, 27, 28, 29, 30, 31, 32, 33, 34, 35, 36, 37, 38, 39, 40, 41, 42, 43, 44, 45, 46, 47, 48, 49, 50, 51, 52, 53, 54, 55, 56, 57, 58, 59, 60, 61, 62, 63, 64, 65, 66, 67, 68, 69, 70, 71, 72, 73, 74, 75, 76, 77, 78, 79, 80, 81, 82, 83, 84, 85, 86, 87, 88, 89, 90, 91, 92, 93, 94, 95, 96, 97, 98, 99]\n",
      "[0, 1, 2, 3, 4, 5, 6, 7, 8, 9, 10, 11, 12, 13, 14, 15, 16, 17, 18, 19, 20, 21, 22, 23, 24, 25, 26, 27, 28, 29, 30, 31, 32, 33, 34, 35, 36, 37, 38, 39, 40, 41, 42, 43, 44, 45, 46, 47, 48, 49, 50, 51, 52, 53, 54, 55, 56, 57, 58, 59, 60, 61, 62, 63, 64, 65, 66, 67, 68, 69, 70, 71, 72, 73, 74, 75, 76, 77, 78, 79, 80, 81, 82, 83, 84, 85, 86, 87, 88, 89, 90, 91, 92, 93, 94, 95, 96, 97, 98, 99, 100]\n",
      "Hi!my!name!is!shri\n",
      "Hi my name is shri\n"
     ]
    }
   ],
   "source": [
    "#common list patterns\n",
    "basket = ['a','x','b','c','d','e','d']\n",
    "basket.sort()\n",
    "basket.reverse()\n",
    "print(basket)\n",
    "print(basket[::-1])\n",
    "print(basket)\n",
    "\n",
    "print(range(1,100))\n",
    "print(list(range(1,100)))\n",
    "print(list(range(101)))\n",
    "sentence = '!'\n",
    "new_sentence = sentence.join(['Hi', 'my', 'name', 'is', 'shri'])\n",
    "print(new_sentence)\n",
    "sentence = ' '\n",
    "new_sentence = sentence.join(['Hi', 'my', 'name', 'is', 'shri'])\n",
    "print(new_sentence)"
   ]
  },
  {
   "cell_type": "code",
   "execution_count": 187,
   "metadata": {},
   "outputs": [
    {
     "name": "stdout",
     "output_type": "stream",
     "text": [
      "[1, 2, 3]\n",
      "1 2 3\n",
      "[4, 5, 6, 7, 8]\n",
      "9\n"
     ]
    }
   ],
   "source": [
    "# list unpacking\n",
    "basket = [1,2,3]\n",
    "a,b,c,*other,d = [1,2,3,4,5,6,7,8,9]\n",
    "print(basket)\n",
    "print(a,b,c)\n",
    "print(other)\n",
    "print(d)"
   ]
  },
  {
   "cell_type": "code",
   "execution_count": 190,
   "metadata": {},
   "outputs": [
    {
     "name": "stdout",
     "output_type": "stream",
     "text": [
      "None\n",
      "guns\n"
     ]
    }
   ],
   "source": [
    "#None (special data type)\n",
    "# absence of value \n",
    "a = None\n",
    "print(a)\n",
    "a = 'guns'\n",
    "print(a)"
   ]
  },
  {
   "cell_type": "code",
   "execution_count": 203,
   "metadata": {},
   "outputs": [
    {
     "name": "stdout",
     "output_type": "stream",
     "text": [
      "True\n",
      "{'a': [1, 2, 3], 'b': 'hello', 'c': True}\n",
      "[1, 2, 3]\n",
      "2\n",
      "[{'a': [1, 2, 3], 'b': 'hello', 'c': True}, {'a': [4, 5, 6], 'b': 'hello', 'c': True}]\n",
      "6\n"
     ]
    }
   ],
   "source": [
    "#Dictionary\n",
    "dictionary = {'a':[1,2,3], 'b':'hello', 'c':True} #unordered key-value pair\n",
    "print(dictionary['c'])\n",
    "# print(dictionary[2]) Key error\n",
    "print(dictionary)\n",
    "print(dictionary['a'])\n",
    "print(dictionary['a'][1])\n",
    "\n",
    "li =[{'a':[1,2,3], 'b':'hello', 'c':True},{'a':[4,5,6],\n",
    "                                           'b':'hello', 'c':True}]\n",
    "print(li)\n",
    "print(li[1]['a'][2])"
   ]
  },
  {
   "cell_type": "code",
   "execution_count": 210,
   "metadata": {},
   "outputs": [
    {
     "name": "stdout",
     "output_type": "stream",
     "text": [
      "{123: [1, 2, 3], 'greeting': 'Hello', 'is_magic': True, 'False': 'ok'}\n",
      "[1, 2, 3]\n",
      "Hello\n"
     ]
    }
   ],
   "source": [
    "#Dictionary2\n",
    "dictionary = {123:[1,2,3], 'greeting':'Hello', 'is_magic':True, \n",
    "              'False':'ok'}\n",
    "print(dictionary)\n",
    "print(dictionary[123]) \n",
    "# dictionary keys need to be immutable(string),key can't be a list\n",
    "dictionary = {'123':[1,2,3], '123':'Hello', 'is_magic':True, \n",
    "              'False':'ok'} #'123':[1,2,3] no longer exists\n",
    "print(dictionary['123']) "
   ]
  },
  {
   "cell_type": "code",
   "execution_count": 237,
   "metadata": {},
   "outputs": [
    {
     "name": "stdout",
     "output_type": "stream",
     "text": [
      "24\n",
      "55\n",
      "{'name': 'shri'}\n",
      "True\n",
      "dict_keys(['name', 'age', 'gender'])\n",
      "dict_values(['shrikant', 24, 'male'])\n",
      "dict_items([('name', 'shrikant'), ('age', 24), ('gender', 'male')])\n",
      "None\n",
      "{}\n",
      "{'name': 'shrikant', 'age': 24, 'gender': 'male'}\n",
      "24\n",
      "{'name': 'shrikant', 'gender': 'male'}\n",
      "('gender', 'male')\n",
      "{'name': 'shrikant'}\n",
      "None\n",
      "{'name': 'shri', 'age': 24}\n"
     ]
    }
   ],
   "source": [
    "#Dictionary methods\n",
    "user = {'name':'shrikant','age':24, 'gender':'male'}\n",
    "print(user.get('age',55))\n",
    "print(user.get('age2',55))\n",
    "user2 = dict(name ='shri')\n",
    "print(user2)\n",
    "\n",
    "#Dictionary methods2\n",
    "print('name' in user)\n",
    "print(user.keys())\n",
    "print(user.values())\n",
    "print(user.items())  #returns tuples\n",
    "user_new = user.copy()\n",
    "print(user.clear())\n",
    "print(user)\n",
    "print(user_new)\n",
    "print(user_new.pop('age'))\n",
    "print(user_new)\n",
    "print(user_new.popitem())\n",
    "print(user_new)\n",
    "print(user_new.update({'name':'shri', 'age':24})) #updates the existing as \n",
    "                                                # well as can add new ones\n",
    "print(user_new)\n"
   ]
  },
  {
   "cell_type": "code",
   "execution_count": 240,
   "metadata": {},
   "outputs": [
    {
     "name": "stdout",
     "output_type": "stream",
     "text": [
      "dict_keys(['age', 'username', 'weapons', 'is_active', 'clan'])\n",
      "{'age': 24, 'username': 'Shrikant', 'weapons': ['katana', 'shuriken', 'shield'], 'is_active': True, 'clan': 'India'}\n",
      "{'age': 24, 'username': 'Shrikant', 'weapons': ['katana', 'shuriken', 'shield'], 'is_active': True, 'clan': 'India', 'is_banned': False}\n",
      "{'age': 24, 'username': 'Shrikant', 'weapons': ['katana', 'shuriken', 'shield'], 'is_active': True, 'clan': 'India', 'is_banned': True}\n",
      "{'age': 33, 'username': 'andrei', 'weapons': ['katana', 'shuriken', 'shield'], 'is_active': True, 'clan': 'India', 'is_banned': True}\n"
     ]
    }
   ],
   "source": [
    "# 1 Create a user profile for your new game. This user profile will be stored in a dictionary with keys: 'age', 'username', 'weapons', 'is_active' and 'clan'\n",
    "user = {\n",
    "    'age': 24,\n",
    "    'username': 'Shrikant',\n",
    "    'weapons': ['katana', 'shuriken'],\n",
    "    'is_active': True,\n",
    "    'clan': 'India'\n",
    "}\n",
    "\n",
    "# 2 iterate and print all the keys in the above user.\n",
    "print(user.keys())\n",
    "\n",
    "# 3 Add a new weapon to your user\n",
    "user['weapons'].append('shield')\n",
    "print(user)\n",
    "\n",
    "# 4 Add a new key to include 'is_banned'. Set it to false\n",
    "user.update({'is_banned': False}) \n",
    "print(user)\n",
    "\n",
    "# 5 Ban the user by setting the previous key to True\n",
    "user['is_banned'] = True\n",
    "print(user)\n",
    "\n",
    "# 6 create a new user2 my copying the previous user and update the age value and username value. \n",
    "user2 = user.copy()\n",
    "user2.update({'age': 33, 'username': 'andrei'})\n",
    "print(user2)\n"
   ]
  },
  {
   "cell_type": "code",
   "execution_count": 250,
   "metadata": {},
   "outputs": [
    {
     "name": "stdout",
     "output_type": "stream",
     "text": [
      "1\n",
      "3\n",
      "[4, 5]\n",
      "2\n",
      "True\n",
      "(2, 3, 4, 5)\n",
      "6\n",
      "2\n",
      "4\n"
     ]
    }
   ],
   "source": [
    "# Tuples\n",
    "#immutable lists\n",
    "my_tuple = (1,2,3,4,5,5)\n",
    "x,y,z,*other = (1,2,3,4,5)\n",
    "print(x)\n",
    "print(z)\n",
    "print(other)\n",
    "# my_tuple[1] = 'z' Error\n",
    "print(my_tuple[1])\n",
    "print(5 in my_tuple)\n",
    "#tuples can be used as keys in dictionary unlike lists\n",
    "new_tuple = my_tuple[1:5]\n",
    "print(new_tuple)\n",
    "\n",
    "#tuple methods &/ functions\n",
    "print(len(my_tuple))\n",
    "print(my_tuple.count(5))\n",
    "print(my_tuple.index(5))\n"
   ]
  },
  {
   "cell_type": "code",
   "execution_count": 265,
   "metadata": {},
   "outputs": [
    {
     "name": "stdout",
     "output_type": "stream",
     "text": [
      "[1, 2, 3, 4, 5, 5]\n",
      "{1, 2, 3, 4, 5}\n",
      "{1, 2, 3, 4, 5}\n",
      "{1, 2, 3, 4, 5, 100}\n",
      "True\n",
      "6\n",
      "[1, 2, 3, 4, 5, 100]\n",
      "{1, 2, 3, 4, 5, 100}\n",
      "set()\n",
      "{1, 2, 3, 4, 5, 100}\n"
     ]
    }
   ],
   "source": [
    "# Sets\n",
    "#unordered collection of unique objects\n",
    "my_list = [1,2,3,4,5,5]\n",
    "print(my_list)\n",
    "my_set = set(my_list) #extra 5 is not included.\n",
    "print(my_set)\n",
    "my_set = {1,2,3,4,5,5}\n",
    "print(my_set)\n",
    "my_set.add(100)\n",
    "my_set.add(2)\n",
    "print(my_set)\n",
    "# print(my_set[4]) error:'set' object is not subscriptable\n",
    "print(5 in my_set)\n",
    "print(len(my_set))\n",
    "print(list(my_set))\n",
    "set2 = my_set.copy()\n",
    "print(set2)\n",
    "my_set.clear()\n",
    "print(my_set)\n",
    "print(set2)"
   ]
  },
  {
   "cell_type": "code",
   "execution_count": 275,
   "metadata": {},
   "outputs": [
    {
     "name": "stdout",
     "output_type": "stream",
     "text": [
      "{1, 2, 3}\n",
      "None\n",
      "{1, 2, 3, 4}\n",
      "None\n",
      "{1, 2, 3}\n",
      "{4, 5}\n",
      "False\n",
      "False\n",
      "False\n",
      "{1, 2, 3, 4, 5, 6, 7, 8, 9, 10}\n",
      "{1, 2, 3, 4, 5, 6, 7, 8, 9, 10}\n",
      "{4, 5}\n"
     ]
    }
   ],
   "source": [
    "# Set methods\n",
    "my_set = {1,2,3,4,5}\n",
    "your_set = {4,5,6,7,8,9,10}\n",
    "\n",
    "print(my_set.difference(your_set))\n",
    "print(my_set.discard(5))\n",
    "print(my_set)\n",
    "print(my_set.difference_update(your_set))\n",
    "print(my_set)\n",
    "my_set = {1,2,3,4,5}\n",
    "your_set = {4,5,6,7,8,9,10}\n",
    "print(my_set.intersection(your_set))\n",
    "print(my_set.isdisjoint(your_set))\n",
    "print(my_set.issubset(your_set))\n",
    "print(my_set.issuperset(your_set))\n",
    "print(my_set.union(your_set))\n",
    "print(my_set | your_set)\n",
    "print(my_set & your_set)"
   ]
  },
  {
   "cell_type": "code",
   "execution_count": null,
   "metadata": {},
   "outputs": [],
   "source": []
  }
 ],
 "metadata": {
  "kernelspec": {
   "display_name": "Python 3",
   "language": "python",
   "name": "python3"
  },
  "language_info": {
   "codemirror_mode": {
    "name": "ipython",
    "version": 3
   },
   "file_extension": ".py",
   "mimetype": "text/x-python",
   "name": "python",
   "nbconvert_exporter": "python",
   "pygments_lexer": "ipython3",
   "version": "3.8.3"
  }
 },
 "nbformat": 4,
 "nbformat_minor": 4
}
