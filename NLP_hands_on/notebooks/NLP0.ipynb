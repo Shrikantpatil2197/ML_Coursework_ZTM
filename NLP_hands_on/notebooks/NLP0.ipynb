{
 "cells": [
  {
   "cell_type": "markdown",
   "metadata": {},
   "source": [
    "# <font color='green'>Introduction to Natural Language Processing in Python </font>"
   ]
  },
  {
   "cell_type": "markdown",
   "metadata": {},
   "source": [
    "# <font color='red'>Chapter-1: Regular Expressions and word Tokenization</font>"
   ]
  },
  {
   "cell_type": "markdown",
   "metadata": {},
   "source": [
    "### Regular Expressions"
   ]
  },
  {
   "cell_type": "code",
   "execution_count": 1,
   "metadata": {},
   "outputs": [
    {
     "name": "stdout",
     "output_type": "stream",
     "text": [
      "[\"Let's write RegEx\", \"  Won't that be fun\", '  I sure think so', '  Can you find 4 sentences', '  Or perhaps, all 19 words', '']\n",
      "['Let', 'RegEx', 'Won', 'Can', 'Or']\n",
      "[\"Let's\", 'write', 'RegEx!', \"Won't\", 'that', 'be', 'fun?', 'I', 'sure', 'think', 'so.', 'Can', 'you', 'find', '4', 'sentences?', 'Or', 'perhaps,', 'all', '19', 'words?']\n",
      "['4', '19']\n"
     ]
    }
   ],
   "source": [
    "import re\n",
    "my_string = \"Let's write RegEx!  Won't that be fun?  I sure think so.  Can you find 4 sentences?  Or perhaps, all 19 words?\"\n",
    "# Write a pattern to match sentence endings: sentence_endings\n",
    "sentence_endings = r\"[.?!]\"\n",
    "\n",
    "# Split my_string on sentence endings and print the result\n",
    "print(re.split(sentence_endings,my_string))\n",
    "\n",
    "# Find all capitalized words in my_string and print the result\n",
    "capitalized_words = r\"[A-Z]\\w+\"\n",
    "print(re.findall(capitalized_words, my_string))\n",
    "\n",
    "# Split my_string on spaces and print the result\n",
    "spaces = r\"\\s+\"\n",
    "print(re.split(spaces, my_string))\n",
    "\n",
    "# Find all digits in my_string and print the result\n",
    "digits = r\"\\d+\"\n",
    "print(re.findall(digits, my_string))\n"
   ]
  },
  {
   "cell_type": "markdown",
   "metadata": {},
   "source": [
    "**Remember from the video that the syntax for the regex library is to always to pass the pattern first, and then the string second.**"
   ]
  },
  {
   "cell_type": "markdown",
   "metadata": {},
   "source": [
    "### Tokanization:"
   ]
  },
  {
   "cell_type": "code",
   "execution_count": 2,
   "metadata": {},
   "outputs": [],
   "source": [
    "# the first scene of Monty Python's Holy Grail,\n",
    "scene_one = '''SCENE 1: [wind] [clop clop clop] \\nKING ARTHUR: Whoa \n",
    "        there!  [clop clop clop] \\nSOLDIER #1: Halt!  Who goes there?\n",
    "        \\nARTHUR: It is I, Arthur, son of Uther Pendragon, from the castle\n",
    "        of Camelot.  King of the Britons, defeator of the Saxons, sovereign\n",
    "        of all England!\\nSOLDIER #1: Pull the other one!\\nARTHUR: I am, \n",
    "        ...  and this is my trusty servant Patsy.  We have ridden the \n",
    "        length and breadth of the land in search of knights who will join \n",
    "        me in my court at Camelot.  I must speak with your lord and master.\n",
    "        \\nSOLDIER #1: What?  Ridden on a horse?\\nARTHUR: Yes!\\nSOLDIER #1:\n",
    "        You're using coconuts!\\nARTHUR: What?\\nSOLDIER #1: You've got two \n",
    "        empty halves of coconut and you're bangin' 'em together.\\nARTHUR: \n",
    "        So?  We have ridden since the snows of winter covered this land, \n",
    "        through the kingdom of Mercea, through--\\nSOLDIER #1: Where'd you\n",
    "        get the coconuts?\\nARTHUR: We found them.\\nSOLDIER #1: Found them? \n",
    "        In Mercea?  The coconut's tropical!\\nARTHUR: What do you mean?\n",
    "        \\nSOLDIER #1: Well, this is a temperate zone.\\nARTHUR: The swallow\n",
    "        may fly south with the sun or the house martin or the plover may \n",
    "        seek warmer climes in winter, yet these are not strangers to our \n",
    "        land?\\nSOLDIER #1: Are you suggesting coconuts migrate?\\nARTHUR: \n",
    "        Not at all.  They could be carried.\\nSOLDIER #1: What?  A swallow \n",
    "        carrying a coconut?\\nARTHUR: It could grip it by the husk!\\nSOLDIER\n",
    "        #1: It's not a question of where he grips it!  It's a simple \n",
    "        question of weight ratios!  A five ounce bird could not carry a one\n",
    "        pound coconut.\\nARTHUR: Well, it doesn't matter.  Will you go and\n",
    "        tell your master that Arthur from the Court of Camelot is here.\n",
    "        \\nSOLDIER #1: Listen.  In order to maintain air-speed velocity, a \n",
    "        swallow needs to beat its wings forty-three times every second, \n",
    "        right?\\nARTHUR: Please!\\nSOLDIER #1: Am I right?\\nARTHUR: I'm not \n",
    "        interested!\\nSOLDIER #2: It could be carried by an African swallow!\n",
    "        \\nSOLDIER #1: Oh, yeah, an African swallow maybe, but not a \n",
    "        European swallow.  That's my point.\\nSOLDIER #2: Oh, yeah, I agree \n",
    "        with that.\\nARTHUR: Will you ask your master if he wants to join my\n",
    "        court at Camelot?!\\nSOLDIER #1: But then of course a-- African \n",
    "        swallows are non-migratory.\\nSOLDIER #2: Oh, yeah...\\nSOLDIER #1:\n",
    "        So they couldn't bring a coconut back anyway...  [clop clop clop] \n",
    "        \\nSOLDIER #2: Wait a minute!  Supposing two swallows carried it \n",
    "        together?\\nSOLDIER #1: No, they'd have to have it on a line.\n",
    "        \\nSOLDIER #2: Well, simple!  They'd just use a strand of creeper!\n",
    "        \\nSOLDIER #1: What, held under the dorsal guiding feathers?\n",
    "        \\nSOLDIER #2: Well, why not?\\n'''"
   ]
  },
  {
   "cell_type": "code",
   "execution_count": 3,
   "metadata": {},
   "outputs": [],
   "source": [
    "import nltk"
   ]
  },
  {
   "cell_type": "markdown",
   "metadata": {},
   "source": [
    "nltk.download('punkt')"
   ]
  },
  {
   "cell_type": "code",
   "execution_count": 4,
   "metadata": {},
   "outputs": [
    {
     "name": "stdout",
     "output_type": "stream",
     "text": [
      "sentences:\n",
      " ['SCENE 1: [wind] [clop clop clop] \\nKING ARTHUR: Whoa \\n        there!', '[clop clop clop] \\nSOLDIER #1: Halt!', 'Who goes there?', 'ARTHUR: It is I, Arthur, son of Uther Pendragon, from the castle\\n        of Camelot.', 'King of the Britons, defeator of the Saxons, sovereign\\n        of all England!', 'SOLDIER #1: Pull the other one!', 'ARTHUR: I am, \\n        ...  and this is my trusty servant Patsy.', 'We have ridden the \\n        length and breadth of the land in search of knights who will join \\n        me in my court at Camelot.', 'I must speak with your lord and master.', 'SOLDIER #1: What?', 'Ridden on a horse?', 'ARTHUR: Yes!', \"SOLDIER #1:\\n        You're using coconuts!\", 'ARTHUR: What?', \"SOLDIER #1: You've got two \\n        empty halves of coconut and you're bangin' 'em together.\", 'ARTHUR: \\n        So?', \"We have ridden since the snows of winter covered this land, \\n        through the kingdom of Mercea, through--\\nSOLDIER #1: Where'd you\\n        get the coconuts?\", 'ARTHUR: We found them.', 'SOLDIER #1: Found them?', 'In Mercea?', \"The coconut's tropical!\", 'ARTHUR: What do you mean?', 'SOLDIER #1: Well, this is a temperate zone.', 'ARTHUR: The swallow\\n        may fly south with the sun or the house martin or the plover may \\n        seek warmer climes in winter, yet these are not strangers to our \\n        land?', 'SOLDIER #1: Are you suggesting coconuts migrate?', 'ARTHUR: \\n        Not at all.', 'They could be carried.', 'SOLDIER #1: What?', 'A swallow \\n        carrying a coconut?', 'ARTHUR: It could grip it by the husk!', \"SOLDIER\\n        #1: It's not a question of where he grips it!\", \"It's a simple \\n        question of weight ratios!\", 'A five ounce bird could not carry a one\\n        pound coconut.', \"ARTHUR: Well, it doesn't matter.\", 'Will you go and\\n        tell your master that Arthur from the Court of Camelot is here.', 'SOLDIER #1: Listen.', 'In order to maintain air-speed velocity, a \\n        swallow needs to beat its wings forty-three times every second, \\n        right?', 'ARTHUR: Please!', 'SOLDIER #1: Am I right?', \"ARTHUR: I'm not \\n        interested!\", 'SOLDIER #2: It could be carried by an African swallow!', 'SOLDIER #1: Oh, yeah, an African swallow maybe, but not a \\n        European swallow.', \"That's my point.\", 'SOLDIER #2: Oh, yeah, I agree \\n        with that.', 'ARTHUR: Will you ask your master if he wants to join my\\n        court at Camelot?!', 'SOLDIER #1: But then of course a-- African \\n        swallows are non-migratory.', 'SOLDIER #2: Oh, yeah...', \"SOLDIER #1:\\n        So they couldn't bring a coconut back anyway...  [clop clop clop] \\n        \\nSOLDIER #2: Wait a minute!\", 'Supposing two swallows carried it \\n        together?', \"SOLDIER #1: No, they'd have to have it on a line.\", 'SOLDIER #2: Well, simple!', \"They'd just use a strand of creeper!\", 'SOLDIER #1: What, held under the dorsal guiding feathers?', 'SOLDIER #2: Well, why not?']\n",
      "\n",
      "words:\n",
      " ['ARTHUR', ':', 'It', 'is', 'I', ',', 'Arthur', ',', 'son', 'of', 'Uther', 'Pendragon', ',', 'from', 'the', 'castle', 'of', 'Camelot', '.']\n",
      "\n",
      "unique_tokens:\n",
      " {'second', 'must', 'A', 'creeper', 'that', 'guiding', 'this', 'go', 'velocity', 'forty-three', 'here', 'Halt', 'empty', \"'\", 'yet', 'They', 'held', '1', 'who', 'speak', 'dorsal', 'fly', 'are', 'Where', 'carried', 'grips', 'Uther', 'house', \"'s\", \"'d\", 'south', 'The', 'where', 'your', 'What', \"'ve\", 'order', 'air-speed', \"'re\", 'these', 'me', 'ounce', 'its', 'strangers', 'could', 'it', 'tropical', '...', 'It', 'Yes', 'then', 'breadth', 'So', 'land', 'weight', 'We', ',', 'son', 'a', 'mean', 'is', 'Whoa', 'Please', 'Supposing', 'together', 'am', 'tell', 'covered', 'under', \"'em\", 'on', 'Pull', 'husk', 'castle', 'Ridden', 'swallow', 'sovereign', 'lord', 'Court', '!', 'snows', 'may', 'seek', ']', 'Not', 'but', 'two', 'length', 'knights', 'Who', 'ARTHUR', 'maintain', 'Oh', 'Am', 'if', 'matter', 'agree', 'since', 'interested', 'No', 'Are', 'have', 'with', 'SOLDIER', 'SCENE', '.', 'needs', 'carry', 'ask', 'there', 'master', 'Pendragon', 'join', 'defeator', '[', 'Will', 'KING', 'question', 'grip', 'you', 'search', 'Mercea', 'our', 'by', ':', 'he', 'In', 'five', 'times', 'trusty', 'But', 'goes', 'use', 'migrate', '2', 'wings', 'clop', 'other', 'horse', 'got', '--', 'bangin', 'wants', 'in', 'halves', 'not', 'at', 'sun', 'to', 'be', 'pound', 'yeah', 'beat', 'from', 'martin', 'King', 'climes', 'an', 'line', 'using', 'strand', 'of', 'Britons', 'or', 'ridden', 'bird', 'anyway', 'and', '?', 'minute', 'servant', 'Arthur', 'carrying', 'Wait', 'Well', 'Listen', 'my', 'point', 'back', 'the', 'right', 'one', 'court', 'Found', 'just', 'feathers', 'coconuts', 'zone', 'wind', 'ratios', 'will', 'That', 'get', 'found', 'maybe', 'African', 'bring', 'I', 'simple', 'Saxons', 'kingdom', 'do', 'all', 'every', \"'m\", 'England', 'temperate', 'they', 'why', \"n't\", 'You', 'European', 'them', 'does', 'Camelot', 'swallows', 'suggesting', 'course', 'warmer', 'winter', 'Patsy', 'coconut', 'through', 'plover', 'non-migratory', '#'}\n"
     ]
    }
   ],
   "source": [
    "# Import necessary modules\n",
    "from nltk.tokenize import sent_tokenize\n",
    "from nltk.tokenize import word_tokenize\n",
    "\n",
    "# Split scene_one into sentences: sentences\n",
    "sentences = sent_tokenize(scene_one)\n",
    "print('sentences:\\n',sentences)\n",
    "# Use word_tokenize to tokenize the fourth sentence: tokenized_sent\n",
    "tokenized_sent = word_tokenize(sentences[3])\n",
    "print('\\nwords:\\n',tokenized_sent)\n",
    "# Make a set of unique tokens in the entire scene: unique_tokens\n",
    "unique_tokens = set(word_tokenize(scene_one))\n",
    "# Print the unique tokens result\n",
    "print('\\nunique_tokens:\\n',unique_tokens)\n"
   ]
  },
  {
   "cell_type": "code",
   "execution_count": 5,
   "metadata": {},
   "outputs": [
    {
     "data": {
      "text/plain": [
       "2853"
      ]
     },
     "execution_count": 5,
     "metadata": {},
     "output_type": "execute_result"
    }
   ],
   "source": [
    "len(scene_one)"
   ]
  },
  {
   "cell_type": "code",
   "execution_count": 6,
   "metadata": {},
   "outputs": [
    {
     "name": "stdout",
     "output_type": "stream",
     "text": [
      "658 666\n"
     ]
    }
   ],
   "source": [
    "# Search for the first occurrence of \"coconuts\" in scene_one: match\n",
    "match = re.search(r\"coconuts\", scene_one)\n",
    "# print(match)\n",
    "# Print the start and end indexes of match\n",
    "print(match.start(),match.end())"
   ]
  },
  {
   "cell_type": "code",
   "execution_count": 7,
   "metadata": {},
   "outputs": [
    {
     "name": "stdout",
     "output_type": "stream",
     "text": [
      "None\n"
     ]
    }
   ],
   "source": [
    "# Write a regular expression to search for anything in square brackets: pattern1\n",
    "pattern1 = r\"\\[coconuts]\"\n",
    "\n",
    "# Use re.search to find the first text in square brackets\n",
    "print(re.match(pattern1,scene_one))"
   ]
  },
  {
   "cell_type": "code",
   "execution_count": 8,
   "metadata": {},
   "outputs": [
    {
     "name": "stdout",
     "output_type": "stream",
     "text": [
      "<re.Match object; span=(9, 32), match='[wind] [clop clop clop]'>\n"
     ]
    }
   ],
   "source": [
    "# Write a regular expression to search for anything in square brackets: pattern1\n",
    "pattern1 = r\"\\[.*\\]\"\n",
    "\n",
    "# Use re.search to find the first text in square brackets\n",
    "print(re.search(pattern1,scene_one))"
   ]
  },
  {
   "cell_type": "code",
   "execution_count": 9,
   "metadata": {},
   "outputs": [
    {
     "name": "stdout",
     "output_type": "stream",
     "text": [
      "<re.Match object; span=(0, 7), match='ARTHUR:'>\n"
     ]
    }
   ],
   "source": [
    "# Find the script notation at the beginning of the fourth sentence and print it\n",
    "pattern2 = r\"[\\w+]+:\"\n",
    "print(re.match(pattern2, sentences[3]))"
   ]
  },
  {
   "cell_type": "code",
   "execution_count": 10,
   "metadata": {},
   "outputs": [],
   "source": [
    "my_string = \"SOLDIER #1: Found them? In Mercea? The coconut's tropical!\""
   ]
  },
  {
   "cell_type": "code",
   "execution_count": 11,
   "metadata": {},
   "outputs": [],
   "source": [
    "from nltk.tokenize import regexp_tokenize"
   ]
  },
  {
   "cell_type": "code",
   "execution_count": 12,
   "metadata": {},
   "outputs": [
    {
     "name": "stdout",
     "output_type": "stream",
     "text": [
      "['SOLDIER', '1', 'Found', 'them', '?', 'In', 'Mercea', '?', 'The', 'coconut', 's', 'tropical', '!']\n",
      "['SOLDIER', '#1', 'Found', 'them', '?', 'In', 'Mercea', '?', 'The', 'coconut', 's', 'tropical', '!']\n",
      "[]\n",
      "[' ', ' ', ' ', ' ', ' ', ' ', ' ', ' ']\n"
     ]
    }
   ],
   "source": [
    "patterns = ['(\\\\w+|\\\\?|!)','(\\\\w+|\\#\\\\d|\\\\?|!)','(#\\\\d\\\\w+\\\\?!)',\n",
    "           '\\\\s+']\n",
    "for pattern in patterns:\n",
    "    print(regexp_tokenize(my_string, pattern))\n",
    "    "
   ]
  },
  {
   "cell_type": "code",
   "execution_count": 13,
   "metadata": {},
   "outputs": [],
   "source": [
    "tweets = ['This is the best #nlp exercise ive found online! #python',\n",
    " '#NLP is super fun! <3 #learning',\n",
    " 'Thanks @datacamp :) #nlp #python']"
   ]
  },
  {
   "cell_type": "markdown",
   "metadata": {},
   "source": [
    "**Unlike the syntax for the regex library, with nltk_tokenize() you pass the pattern as the second argument.**"
   ]
  },
  {
   "cell_type": "code",
   "execution_count": 14,
   "metadata": {},
   "outputs": [
    {
     "name": "stdout",
     "output_type": "stream",
     "text": [
      "['#nlp', '#python']\n"
     ]
    }
   ],
   "source": [
    "# Define a regex pattern to find hashtags: pattern1\n",
    "pattern1 = r\"#\\w+\"\n",
    "# Use the pattern on the first tweet in the tweets list\n",
    "hashtags = regexp_tokenize(tweets[0],pattern1)\n",
    "print(hashtags)"
   ]
  },
  {
   "cell_type": "code",
   "execution_count": 15,
   "metadata": {},
   "outputs": [
    {
     "name": "stdout",
     "output_type": "stream",
     "text": [
      "['@datacamp', '#nlp', '#python']\n"
     ]
    }
   ],
   "source": [
    "# Write a pattern that matches both mentions (@) and hashtags\n",
    "pattern2 = r\"[(@|#)]\\w+\"\n",
    "# Use the pattern on the last tweet in the tweets list\n",
    "mentions_hashtags = regexp_tokenize(tweets[-1], pattern2)\n",
    "print(mentions_hashtags)"
   ]
  },
  {
   "cell_type": "code",
   "execution_count": 16,
   "metadata": {},
   "outputs": [],
   "source": [
    "from nltk.tokenize import TweetTokenizer"
   ]
  },
  {
   "cell_type": "code",
   "execution_count": 17,
   "metadata": {},
   "outputs": [
    {
     "name": "stdout",
     "output_type": "stream",
     "text": [
      "[['This', 'is', 'the', 'best', '#nlp', 'exercise', 'ive', 'found', 'online', '!', '#python'], ['#NLP', 'is', 'super', 'fun', '!', '<3', '#learning'], ['Thanks', '@datacamp', ':)', '#nlp', '#python']]\n"
     ]
    }
   ],
   "source": [
    "# Use the TweetTokenizer to tokenize all tweets into one list\n",
    "tknzr = TweetTokenizer()\n",
    "all_tokens = [tknzr.tokenize(t) for t in tweets]\n",
    "print(all_tokens)"
   ]
  },
  {
   "cell_type": "code",
   "execution_count": 18,
   "metadata": {},
   "outputs": [],
   "source": [
    "german_text = 'Wann gehen wir Pizza essen? 🍕 Und fährst du mit Über? 🚕'"
   ]
  },
  {
   "cell_type": "code",
   "execution_count": 19,
   "metadata": {},
   "outputs": [
    {
     "name": "stdout",
     "output_type": "stream",
     "text": [
      "['Wann', 'gehen', 'wir', 'Pizza', 'essen', '?', '🍕', 'Und', 'fährst', 'du', 'mit', 'Über', '?', '🚕']\n",
      "['Wann', 'Pizza', 'Und', 'Über']\n",
      "['🍕', '🚕']\n"
     ]
    }
   ],
   "source": [
    "# Tokenize and print all words in german_text\n",
    "all_words = word_tokenize(german_text)\n",
    "print(all_words)\n",
    "\n",
    "# Tokenize and print only capital words\n",
    "capital_words = r\"[(A-Z|Ü!)]\\w+\"\n",
    "print(regexp_tokenize(german_text,capital_words))\n",
    "\n",
    "# Tokenize and print only emoji\n",
    "emoji = \"['\\U0001F300-\\U0001F5FF'|'\\U0001F600-\\U0001F64F'|'\\U0001F680-\\U0001F6FF'|'\\u2600-\\u26FF\\u2700-\\u27BF']\"\n",
    "print(regexp_tokenize(german_text,emoji))"
   ]
  },
  {
   "cell_type": "markdown",
   "metadata": {},
   "source": [
    "### Charting word length using nltk"
   ]
  },
  {
   "cell_type": "code",
   "execution_count": 20,
   "metadata": {},
   "outputs": [],
   "source": [
    "file = open('holy_grail.txt','r')\n",
    "holy_grail = file.read()"
   ]
  },
  {
   "cell_type": "code",
   "execution_count": 21,
   "metadata": {},
   "outputs": [
    {
     "data": {
      "image/png": "[encoded data removed]",
      "text/plain": [
       "<Figure size 432x288 with 1 Axes>"
      ]
     },
     "metadata": {
      "needs_background": "light"
     },
     "output_type": "display_data"
    }
   ],
   "source": [
    "# Split the script into lines: lines\n",
    "lines = holy_grail.split('\\n')\n",
    "# Replace all script lines for speaker\n",
    "pattern = \"[A-Z]{2,}(\\s)?(#\\d)?([A-Z]{2,})?:\"\n",
    "lines = [re.sub(pattern, '', l) for l in lines]\n",
    "# Tokenize each line: tokenized_lines\n",
    "tokenized_lines = [regexp_tokenize(s,r'\\w+') for s in lines]\n",
    "# Make a frequency list of lengths: line_num_words\n",
    "line_num_words = [len(t_line) for t_line in tokenized_lines]\n",
    "# Plot a histogram of the line lengths\n",
    "import matplotlib.pyplot as plt\n",
    "plt.hist(line_num_words)\n",
    "# Show the plot\n",
    "plt.show()"
   ]
  },
  {
   "cell_type": "markdown",
   "metadata": {},
   "source": [
    "# <font color='red'>Chapter-2: Simple Topic Identification</font>"
   ]
  },
  {
   "cell_type": "markdown",
   "metadata": {},
   "source": [
    "### Bag-Of-Words"
   ]
  },
  {
   "cell_type": "code",
   "execution_count": 22,
   "metadata": {},
   "outputs": [
    {
     "name": "stdout",
     "output_type": "stream",
     "text": [
      "File Name                                             Modified             Size\n",
      "Wikipedia articles/                            2017-08-15 17:57:38            0\n",
      "Wikipedia articles/wiki_text_bug.txt           2017-07-09 23:35:48        38562\n",
      "Wikipedia articles/wiki_text_computer.txt      2017-07-09 23:35:48        94634\n",
      "Wikipedia articles/wiki_text_crash.txt         2017-07-09 23:35:48         5781\n",
      "Wikipedia articles/wiki_text_debugger.txt      2017-07-09 23:35:48         9747\n",
      "Wikipedia articles/wiki_text_debugging.txt     2017-07-09 23:35:48        15854\n",
      "Wikipedia articles/wiki_text_exception.txt     2017-07-09 23:35:48        57027\n",
      "Wikipedia articles/wiki_text_hopper.txt        2017-07-09 23:35:48        44037\n",
      "Wikipedia articles/wiki_text_language.txt      2017-07-09 23:35:48        14403\n",
      "Wikipedia articles/wiki_text_malware.txt       2017-07-09 23:35:48        48664\n",
      "Wikipedia articles/wiki_text_program.txt       2017-07-09 23:35:48        27638\n",
      "Wikipedia articles/wiki_text_reversing.txt     2017-07-09 23:35:48        39851\n",
      "Wikipedia articles/wiki_text_software.txt      2017-07-09 23:35:48        25187\n",
      "Extracting all the files now...\n",
      "Done!\n"
     ]
    }
   ],
   "source": [
    "from zipfile import ZipFile\n",
    "  \n",
    "# specifying the zip file name\n",
    "file_name = \"Wikipedia articles.zip\"\n",
    "  \n",
    "# opening the zip file in READ mode\n",
    "with ZipFile(file_name, 'r') as zip:\n",
    "    # printing all the contents of the zip file\n",
    "    zip.printdir()\n",
    "    # extracting all the files\n",
    "    print('Extracting all the files now...')\n",
    "    zip.extractall()\n",
    "    print('Done!')"
   ]
  },
  {
   "cell_type": "code",
   "execution_count": 23,
   "metadata": {},
   "outputs": [
    {
     "name": "stdout",
     "output_type": "stream",
     "text": [
      "<class 'str'>\n"
     ]
    }
   ],
   "source": [
    "with ZipFile(file_name, 'r') as zip:\n",
    "    lst = zip.namelist()\n",
    "    byte_data = zip.read('Wikipedia articles/wiki_text_debugging.txt')\n",
    "    article = byte_data.decode('utf-8')\n",
    "    print(type(article))"
   ]
  },
  {
   "cell_type": "code",
   "execution_count": 24,
   "metadata": {},
   "outputs": [
    {
     "name": "stdout",
     "output_type": "stream",
     "text": [
      "[(',', 151), ('the', 150), ('.', 89), ('of', 81), (\"''\", 66), ('to', 63), ('a', 60), ('``', 47), ('in', 44), ('and', 41), ('debugging', 40)]\n"
     ]
    }
   ],
   "source": [
    "# Import Counter\n",
    "from collections import Counter\n",
    "\n",
    "# Tokenize the article: tokens\n",
    "tokens = word_tokenize(article)\n",
    "\n",
    "# Convert the tokens into lowercase: lower_tokens\n",
    "lower_tokens = [t.lower() for t in tokens]\n",
    "\n",
    "# Create a Counter with the lowercase tokens: bow_simple\n",
    "bow_simple = Counter(lower_tokens)\n",
    "\n",
    "# Print the 10 most common tokens\n",
    "print(bow_simple.most_common(11))\n"
   ]
  },
  {
   "cell_type": "markdown",
   "metadata": {},
   "source": [
    "nltk.download('stopwords')"
   ]
  },
  {
   "cell_type": "markdown",
   "metadata": {},
   "source": [
    "nltk.download('wordnet')"
   ]
  },
  {
   "cell_type": "markdown",
   "metadata": {},
   "source": [
    "### Simmple text preprocessing"
   ]
  },
  {
   "cell_type": "code",
   "execution_count": 25,
   "metadata": {},
   "outputs": [
    {
     "name": "stdout",
     "output_type": "stream",
     "text": [
      "[('debugging', 40), ('system', 25), ('bug', 17), ('software', 16), ('problem', 15), ('tool', 15), ('computer', 14), ('process', 13), ('term', 13), ('debugger', 13)]\n"
     ]
    }
   ],
   "source": [
    "# Import WordNetLemmatizer\n",
    "from nltk.stem import WordNetLemmatizer\n",
    "from nltk.corpus import stopwords\n",
    "\n",
    "english_stops = stopwords.words('english')\n",
    "# Retain alphabetic words: alpha_only\n",
    "alpha_only = [t for t in lower_tokens if t.isalpha()]\n",
    "\n",
    "# Remove all stop words: no_stops\n",
    "no_stops = [t for t in alpha_only if t not in english_stops]\n",
    "\n",
    "# Instantiate the WordNetLemmatizer\n",
    "wordnet_lemmatizer = WordNetLemmatizer()\n",
    "\n",
    "# Lemmatize all tokens into a new list: lemmatized\n",
    "lemmatized = [wordnet_lemmatizer.lemmatize(t) for t in no_stops]\n",
    "\n",
    "# Create the bag-of-words: bow\n",
    "bow = Counter(lemmatized)\n",
    "\n",
    "# Print the 10 most common tokens\n",
    "print(bow.most_common(10))\n"
   ]
  },
  {
   "cell_type": "markdown",
   "metadata": {},
   "source": [
    "### Gensim"
   ]
  },
  {
   "cell_type": "code",
   "execution_count": 26,
   "metadata": {
    "scrolled": false
   },
   "outputs": [
    {
     "name": "stdout",
     "output_type": "stream",
     "text": [
      "12\n"
     ]
    }
   ],
   "source": [
    "def preprocess(article):\n",
    "    # Tokenize the article: tokens\n",
    "    tokens = word_tokenize(article)\n",
    "\n",
    "    # Convert the tokens into lowercase: lower_tokens\n",
    "    lower_tokens = [t.lower() for t in tokens]\n",
    "    english_stops = stopwords.words('english')\n",
    "    # Retain alphabetic words: alpha_only\n",
    "    \n",
    "    alpha_only = [t for t in lower_tokens if t.isalpha()]\n",
    "\n",
    "    # Remove all stop words: no_stops\n",
    "    no_stops = [t for t in alpha_only if t not in english_stops]\n",
    "\n",
    "    # Instantiate the WordNetLemmatizer\n",
    "    wordnet_lemmatizer = WordNetLemmatizer()\n",
    "\n",
    "    # Lemmatize all tokens into a new list: lemmatized\n",
    "    lemmatized = [wordnet_lemmatizer.lemmatize(t) for t in no_stops]\n",
    "    \n",
    "    return lemmatized\n",
    "    \n",
    "articles = []\n",
    "with ZipFile(file_name, 'r') as zip:\n",
    "    lst = zip.namelist()\n",
    "    del lst[0]\n",
    "    for member in lst:\n",
    "        byte_data = zip.read(member)\n",
    "        article = byte_data.decode('utf-8')\n",
    "        cleaned_article = preprocess(article)\n",
    "        articles.append(cleaned_article)\n",
    "print(len(articles))"
   ]
  },
  {
   "cell_type": "markdown",
   "metadata": {},
   "source": [
    "conda install python-Levenshtein"
   ]
  },
  {
   "cell_type": "code",
   "execution_count": 27,
   "metadata": {},
   "outputs": [
    {
     "name": "stdout",
     "output_type": "stream",
     "text": [
      "computer\n",
      "12\n",
      "[(1, 1), (13, 1), (14, 1), (17, 1), (24, 1), (27, 1), (33, 1), (34, 4), (42, 2), (43, 7)]\n"
     ]
    }
   ],
   "source": [
    "# Import Dictionary\n",
    "from gensim.corpora.dictionary import Dictionary\n",
    "\n",
    "# Create a Dictionary from the articles: dictionary\n",
    "dictionary = Dictionary(articles)\n",
    "# print(dictionary)\n",
    "# Select the id for \"computer\": computer_id\n",
    "computer_id = dictionary.token2id.get(\"computer\")\n",
    "\n",
    "# Use computer_id with the dictionary to print the word\n",
    "print(dictionary.get(computer_id))\n",
    "\n",
    "# Create a MmCorpus: corpus\n",
    "corpus = [dictionary.doc2bow(article) for article in articles]\n",
    "print(len(corpus))\n",
    "# Print the first 10 word ids with their frequency counts from the fifth document\n",
    "print(corpus[4][:10])\n"
   ]
  },
  {
   "cell_type": "markdown",
   "metadata": {},
   "source": [
    "#### Gensim bag-of-words"
   ]
  },
  {
   "cell_type": "code",
   "execution_count": 28,
   "metadata": {},
   "outputs": [
    {
     "name": "stdout",
     "output_type": "stream",
     "text": [
      "debugging 40\n",
      "system 25\n",
      "bug 17\n",
      "software 16\n",
      "problem 15\n"
     ]
    }
   ],
   "source": [
    "from collections import defaultdict\n",
    "import itertools\n",
    "# Save the fifth document: doc\n",
    "doc = corpus[4]\n",
    "\n",
    "# Sort the doc for frequency: bow_doc\n",
    "bow_doc = sorted(doc, key=lambda w: w[1], reverse=True)\n",
    "\n",
    "# Print the top 5 words of the document alongside the count\n",
    "for word_id, word_count in bow_doc[:5]:\n",
    "    print(dictionary.get(word_id),word_count)\n",
    "    \n",
    "# Create the defaultdict: total_word_count\n",
    "total_word_count = defaultdict(int)\n",
    "for word_id, word_count in itertools.chain.from_iterable(corpus):\n",
    "    total_word_count[word_id] += word_count\n",
    "    \n",
    "# print(total_word_count)"
   ]
  },
  {
   "cell_type": "code",
   "execution_count": 29,
   "metadata": {},
   "outputs": [
    {
     "name": "stdout",
     "output_type": "stream",
     "text": [
      "computer 754\n",
      "software 450\n",
      "program 341\n",
      "cite 322\n",
      "language 320\n"
     ]
    }
   ],
   "source": [
    "# Create a sorted list from the defaultdict: sorted_word_count\n",
    "sorted_total_word_count = sorted(total_word_count.items(), key=lambda w: w[1], reverse=True) \n",
    "\n",
    "# Print the top 5 words across all documents alongside the count\n",
    "for word_id, word_count in sorted_total_word_count[:5]:\n",
    "    print(dictionary.get(word_id),word_count)"
   ]
  },
  {
   "cell_type": "markdown",
   "metadata": {},
   "source": [
    "### Tf-Idf with gensem (token frequency-inverse document frequency)"
   ]
  },
  {
   "attachments": {
    "image.png": {
     "image/png": "[encoded data removed]"
    }
   },
   "cell_type": "markdown",
   "metadata": {},
   "source": [
    "![image.png](attachment:image.png)"
   ]
  },
  {
   "cell_type": "code",
   "execution_count": 30,
   "metadata": {},
   "outputs": [
    {
     "name": "stdout",
     "output_type": "stream",
     "text": [
      "[(1, 0.012873099301958887), (13, 0.012873099301958887), (14, 0.012873099301958887), (17, 0.012873099301958887), (24, 0.02040337966166453)]\n"
     ]
    }
   ],
   "source": [
    "from gensim.models.tfidfmodel import TfidfModel\n",
    "\n",
    "# Create a new TfidfModel using the corpus: tfidf\n",
    "tfidf = TfidfModel(corpus)\n",
    "\n",
    "# Calculate the tfidf weights of doc: tfidf_weights\n",
    "tfidf_weights = tfidf[doc]\n",
    "\n",
    "# Print the first five weights\n",
    "print(tfidf_weights[:5])"
   ]
  },
  {
   "cell_type": "code",
   "execution_count": 31,
   "metadata": {},
   "outputs": [
    {
     "name": "stdout",
     "output_type": "stream",
     "text": [
      "wolf 0.23074789132791154\n",
      "debugging 0.21371275769012985\n",
      "fence 0.18459831306232924\n",
      "squeeze 0.13844873479674694\n",
      "tron 0.13844873479674694\n"
     ]
    }
   ],
   "source": [
    "# Sort the weights from highest to lowest: sorted_tfidf_weights\n",
    "sorted_tfidf_weights = sorted(tfidf_weights, key=lambda w: w[1], reverse=True)\n",
    "\n",
    "# Print the top 5 weighted words\n",
    "for term_id, weight in sorted_tfidf_weights[:5]:\n",
    "    print(dictionary.get(term_id), weight)"
   ]
  },
  {
   "cell_type": "markdown",
   "metadata": {},
   "source": [
    "# <font color='red'>Chapter-3: Named-entity recognition</font>"
   ]
  },
  {
   "cell_type": "markdown",
   "metadata": {},
   "source": [
    "### NER with NLTK"
   ]
  },
  {
   "cell_type": "code",
   "execution_count": 32,
   "metadata": {},
   "outputs": [],
   "source": [
    "article = '''\\ufeffThe taxi-hailing company Uber brings into very sharp focus\n",
    "        the question of whether corporations can be said to have a moral character.\n",
    "        If any human being were to behave with the single-minded and ruthless greed\n",
    "        of the company, we would consider them sociopathic. Uber wanted to know as \n",
    "        much as possible about the people who use its service, and those who don’t.\n",
    "        It has an arrangement with unroll.me, a company which offered a free \n",
    "        service for unsubscribing from junk mail, to buy the contacts unroll.me \n",
    "        customers had had with rival taxi companies. Even if their email was \n",
    "        notionally anonymised, this use of it was not something the users had \n",
    "        bargained for. Beyond that, it keeps track of the phones that have been \n",
    "        used to summon its services even after the original owner has sold them, \n",
    "        attempting this with Apple’s phones even thought it is forbidden by the \n",
    "        company.\\r\\n\\r\\n\\r\\nUber has also tweaked its software so that regulatory \n",
    "        agencies that the company regarded as hostile would, when they tried to\n",
    "        hire a driver, be given false reports about the location of its cars. Uber\n",
    "        management booked and then cancelled rides with a rival taxi-hailing \n",
    "        company which took their vehicles out of circulation. Uber deny this was \n",
    "        the intention. The punishment for this behaviour was negligible. Uber \n",
    "        promised not to use this “greyball” software against law enforcement – \n",
    "        one wonders what would happen to someone carrying a knife who promised \n",
    "        never to stab a policeman with it. Travis Kalanick of Uber got a personal \n",
    "        dressing down from Tim Cook, who runs Apple, but the company did not \n",
    "        prohibit the use of the app. Too much money was at stake for that.\n",
    "        \\r\\n\\r\\n\\r\\nMillions of people around the world value the cheapness and \n",
    "        convenience of Uber’s rides too much to care about the lack of drivers’ \n",
    "        rights or pay. Many of the users themselves are not much richer than the\n",
    "        drivers. The “sharing economy” encourages the insecure and exploited to \n",
    "        exploit others equally insecure to the profit of a tiny clique of \n",
    "        billionaires. Silicon Valley’s culture seems hostile to humane and \n",
    "        democratic values. The outgoing CEO of Yahoo, Marissa Mayer, who is widely\n",
    "        judged to have been a failure, is likely to get a $186m payout. This may \n",
    "        not be a cause for panic, any more than the previous hero worship should \n",
    "        have been a cause for euphoria. Yet there’s an urgent political task to \n",
    "        tame these companies, to ensure they are punished when they break the law,\n",
    "        that they pay their taxes fairly and that they behave responsibly.'''"
   ]
  },
  {
   "cell_type": "markdown",
   "metadata": {},
   "source": [
    "nltk.download('averaged_perceptron_tagger')"
   ]
  },
  {
   "cell_type": "markdown",
   "metadata": {},
   "source": [
    " nltk.download('maxent_ne_chunker')"
   ]
  },
  {
   "cell_type": "markdown",
   "metadata": {},
   "source": [
    "nltk.download('words')"
   ]
  },
  {
   "cell_type": "code",
   "execution_count": 33,
   "metadata": {},
   "outputs": [
    {
     "name": "stdout",
     "output_type": "stream",
     "text": [
      "[[('\\ufeffThe', 'JJ'), ('taxi-hailing', 'JJ'), ('company', 'NN'), ('Uber', 'NNP'), ('brings', 'VBZ'), ('into', 'IN'), ('very', 'RB'), ('sharp', 'JJ'), ('focus', 'VB'), ('the', 'DT'), ('question', 'NN'), ('of', 'IN'), ('whether', 'IN'), ('corporations', 'NNS'), ('can', 'MD'), ('be', 'VB'), ('said', 'VBD'), ('to', 'TO'), ('have', 'VB'), ('a', 'DT'), ('moral', 'JJ'), ('character', 'NN'), ('.', '.')], [('If', 'IN'), ('any', 'DT'), ('human', 'JJ'), ('being', 'VBG'), ('were', 'VBD'), ('to', 'TO'), ('behave', 'VB'), ('with', 'IN'), ('the', 'DT'), ('single-minded', 'JJ'), ('and', 'CC'), ('ruthless', 'JJ'), ('greed', 'NN'), ('of', 'IN'), ('the', 'DT'), ('company', 'NN'), (',', ','), ('we', 'PRP'), ('would', 'MD'), ('consider', 'VB'), ('them', 'PRP'), ('sociopathic', 'JJ'), ('.', '.')], [('Uber', 'NNP'), ('wanted', 'VBD'), ('to', 'TO'), ('know', 'VB'), ('as', 'RB'), ('much', 'JJ'), ('as', 'IN'), ('possible', 'JJ'), ('about', 'IN'), ('the', 'DT'), ('people', 'NNS'), ('who', 'WP'), ('use', 'VBP'), ('its', 'PRP$'), ('service', 'NN'), (',', ','), ('and', 'CC'), ('those', 'DT'), ('who', 'WP'), ('don', 'VBP'), ('’', 'JJ'), ('t', 'NN'), ('.', '.')], [('It', 'PRP'), ('has', 'VBZ'), ('an', 'DT'), ('arrangement', 'NN'), ('with', 'IN'), ('unroll.me', 'JJ'), (',', ','), ('a', 'DT'), ('company', 'NN'), ('which', 'WDT'), ('offered', 'VBD'), ('a', 'DT'), ('free', 'JJ'), ('service', 'NN'), ('for', 'IN'), ('unsubscribing', 'VBG'), ('from', 'IN'), ('junk', 'NN'), ('mail', 'NN'), (',', ','), ('to', 'TO'), ('buy', 'VB'), ('the', 'DT'), ('contacts', 'NNS'), ('unroll.me', 'JJ'), ('customers', 'NNS'), ('had', 'VBD'), ('had', 'VBN'), ('with', 'IN'), ('rival', 'JJ'), ('taxi', 'NN'), ('companies', 'NNS'), ('.', '.')], [('Even', 'RB'), ('if', 'IN'), ('their', 'PRP$'), ('email', 'NN'), ('was', 'VBD'), ('notionally', 'RB'), ('anonymised', 'VBN'), (',', ','), ('this', 'DT'), ('use', 'NN'), ('of', 'IN'), ('it', 'PRP'), ('was', 'VBD'), ('not', 'RB'), ('something', 'NN'), ('the', 'DT'), ('users', 'NNS'), ('had', 'VBD'), ('bargained', 'VBN'), ('for', 'IN'), ('.', '.')], [('Beyond', 'NN'), ('that', 'IN'), (',', ','), ('it', 'PRP'), ('keeps', 'VBZ'), ('track', 'NN'), ('of', 'IN'), ('the', 'DT'), ('phones', 'NNS'), ('that', 'WDT'), ('have', 'VBP'), ('been', 'VBN'), ('used', 'VBN'), ('to', 'TO'), ('summon', 'VB'), ('its', 'PRP$'), ('services', 'NNS'), ('even', 'RB'), ('after', 'IN'), ('the', 'DT'), ('original', 'JJ'), ('owner', 'NN'), ('has', 'VBZ'), ('sold', 'VBN'), ('them', 'PRP'), (',', ','), ('attempting', 'VBG'), ('this', 'DT'), ('with', 'IN'), ('Apple', 'NNP'), ('’', 'NNP'), ('s', 'VBP'), ('phones', 'NNS'), ('even', 'RB'), ('thought', 'VBD'), ('it', 'PRP'), ('is', 'VBZ'), ('forbidden', 'VBN'), ('by', 'IN'), ('the', 'DT'), ('company', 'NN'), ('.', '.')], [('Uber', 'NNP'), ('has', 'VBZ'), ('also', 'RB'), ('tweaked', 'VBN'), ('its', 'PRP$'), ('software', 'NN'), ('so', 'IN'), ('that', 'DT'), ('regulatory', 'JJ'), ('agencies', 'NNS'), ('that', 'IN'), ('the', 'DT'), ('company', 'NN'), ('regarded', 'VBD'), ('as', 'IN'), ('hostile', 'NN'), ('would', 'MD'), (',', ','), ('when', 'WRB'), ('they', 'PRP'), ('tried', 'VBD'), ('to', 'TO'), ('hire', 'VB'), ('a', 'DT'), ('driver', 'NN'), (',', ','), ('be', 'VB'), ('given', 'VBN'), ('false', 'JJ'), ('reports', 'NNS'), ('about', 'IN'), ('the', 'DT'), ('location', 'NN'), ('of', 'IN'), ('its', 'PRP$'), ('cars', 'NNS'), ('.', '.')], [('Uber', 'NNP'), ('management', 'NN'), ('booked', 'VBD'), ('and', 'CC'), ('then', 'RB'), ('cancelled', 'VBD'), ('rides', 'NNS'), ('with', 'IN'), ('a', 'DT'), ('rival', 'JJ'), ('taxi-hailing', 'JJ'), ('company', 'NN'), ('which', 'WDT'), ('took', 'VBD'), ('their', 'PRP$'), ('vehicles', 'NNS'), ('out', 'IN'), ('of', 'IN'), ('circulation', 'NN'), ('.', '.')], [('Uber', 'NNP'), ('deny', 'NN'), ('this', 'DT'), ('was', 'VBD'), ('the', 'DT'), ('intention', 'NN'), ('.', '.')], [('The', 'DT'), ('punishment', 'NN'), ('for', 'IN'), ('this', 'DT'), ('behaviour', 'NN'), ('was', 'VBD'), ('negligible', 'JJ'), ('.', '.')], [('Uber', 'NNP'), ('promised', 'VBD'), ('not', 'RB'), ('to', 'TO'), ('use', 'VB'), ('this', 'DT'), ('“', 'NN'), ('greyball', 'NN'), ('”', 'NNP'), ('software', 'NN'), ('against', 'IN'), ('law', 'NN'), ('enforcement', 'NN'), ('–', 'NNP'), ('one', 'NN'), ('wonders', 'VBZ'), ('what', 'WDT'), ('would', 'MD'), ('happen', 'VB'), ('to', 'TO'), ('someone', 'NN'), ('carrying', 'VBG'), ('a', 'DT'), ('knife', 'NN'), ('who', 'WP'), ('promised', 'VBD'), ('never', 'RB'), ('to', 'TO'), ('stab', 'VB'), ('a', 'DT'), ('policeman', 'NN'), ('with', 'IN'), ('it', 'PRP'), ('.', '.')], [('Travis', 'NNP'), ('Kalanick', 'NNP'), ('of', 'IN'), ('Uber', 'NNP'), ('got', 'VBD'), ('a', 'DT'), ('personal', 'JJ'), ('dressing', 'VBG'), ('down', 'RP'), ('from', 'IN'), ('Tim', 'NNP'), ('Cook', 'NNP'), (',', ','), ('who', 'WP'), ('runs', 'VBZ'), ('Apple', 'NNP'), (',', ','), ('but', 'CC'), ('the', 'DT'), ('company', 'NN'), ('did', 'VBD'), ('not', 'RB'), ('prohibit', 'VB'), ('the', 'DT'), ('use', 'NN'), ('of', 'IN'), ('the', 'DT'), ('app', 'NN'), ('.', '.')], [('Too', 'RB'), ('much', 'JJ'), ('money', 'NN'), ('was', 'VBD'), ('at', 'IN'), ('stake', 'NN'), ('for', 'IN'), ('that', 'DT'), ('.', '.')], [('Millions', 'NNS'), ('of', 'IN'), ('people', 'NNS'), ('around', 'IN'), ('the', 'DT'), ('world', 'NN'), ('value', 'NN'), ('the', 'DT'), ('cheapness', 'NN'), ('and', 'CC'), ('convenience', 'NN'), ('of', 'IN'), ('Uber', 'NNP'), ('’', 'NNP'), ('s', 'VBD'), ('rides', 'NNS'), ('too', 'RB'), ('much', 'RB'), ('to', 'TO'), ('care', 'VB'), ('about', 'IN'), ('the', 'DT'), ('lack', 'NN'), ('of', 'IN'), ('drivers', 'NNS'), ('’', 'NNP'), ('rights', 'NNS'), ('or', 'CC'), ('pay', 'NN'), ('.', '.')], [('Many', 'JJ'), ('of', 'IN'), ('the', 'DT'), ('users', 'NNS'), ('themselves', 'PRP'), ('are', 'VBP'), ('not', 'RB'), ('much', 'RB'), ('richer', 'JJR'), ('than', 'IN'), ('the', 'DT'), ('drivers', 'NNS'), ('.', '.')], [('The', 'DT'), ('“', 'JJ'), ('sharing', 'VBG'), ('economy', 'NN'), ('”', 'JJ'), ('encourages', 'VBZ'), ('the', 'DT'), ('insecure', 'NN'), ('and', 'CC'), ('exploited', 'VBD'), ('to', 'TO'), ('exploit', 'VB'), ('others', 'NNS'), ('equally', 'RB'), ('insecure', 'VBP'), ('to', 'TO'), ('the', 'DT'), ('profit', 'NN'), ('of', 'IN'), ('a', 'DT'), ('tiny', 'JJ'), ('clique', 'NN'), ('of', 'IN'), ('billionaires', 'NNS'), ('.', '.')], [('Silicon', 'NNP'), ('Valley', 'NNP'), ('’', 'NNP'), ('s', 'JJ'), ('culture', 'NN'), ('seems', 'VBZ'), ('hostile', 'JJ'), ('to', 'TO'), ('humane', 'NN'), ('and', 'CC'), ('democratic', 'JJ'), ('values', 'NNS'), ('.', '.')], [('The', 'DT'), ('outgoing', 'VBG'), ('CEO', 'NNP'), ('of', 'IN'), ('Yahoo', 'NNP'), (',', ','), ('Marissa', 'NNP'), ('Mayer', 'NNP'), (',', ','), ('who', 'WP'), ('is', 'VBZ'), ('widely', 'RB'), ('judged', 'VBN'), ('to', 'TO'), ('have', 'VB'), ('been', 'VBN'), ('a', 'DT'), ('failure', 'NN'), (',', ','), ('is', 'VBZ'), ('likely', 'JJ'), ('to', 'TO'), ('get', 'VB'), ('a', 'DT'), ('$', '$'), ('186m', 'CD'), ('payout', 'NN'), ('.', '.')], [('This', 'DT'), ('may', 'MD'), ('not', 'RB'), ('be', 'VB'), ('a', 'DT'), ('cause', 'NN'), ('for', 'IN'), ('panic', 'NN'), (',', ','), ('any', 'DT'), ('more', 'JJR'), ('than', 'IN'), ('the', 'DT'), ('previous', 'JJ'), ('hero', 'NN'), ('worship', 'NN'), ('should', 'MD'), ('have', 'VB'), ('been', 'VBN'), ('a', 'DT'), ('cause', 'NN'), ('for', 'IN'), ('euphoria', 'NN'), ('.', '.')], [('Yet', 'RB'), ('there', 'EX'), ('’', 'NNP'), ('s', 'VBD'), ('an', 'DT'), ('urgent', 'JJ'), ('political', 'JJ'), ('task', 'NN'), ('to', 'TO'), ('tame', 'VB'), ('these', 'DT'), ('companies', 'NNS'), (',', ','), ('to', 'TO'), ('ensure', 'VB'), ('they', 'PRP'), ('are', 'VBP'), ('punished', 'VBN'), ('when', 'WRB'), ('they', 'PRP'), ('break', 'VBP'), ('the', 'DT'), ('law', 'NN'), (',', ','), ('that', 'IN'), ('they', 'PRP'), ('pay', 'VBP'), ('their', 'PRP$'), ('taxes', 'NNS'), ('fairly', 'RB'), ('and', 'CC'), ('that', 'IN'), ('they', 'PRP'), ('behave', 'VBP'), ('responsibly', 'RB'), ('.', '.')]] \n",
      "\n",
      "(S\n",
      "  (NE Uber/NNP)\n",
      "  wanted/VBD\n",
      "  to/TO\n",
      "  know/VB\n",
      "  as/RB\n",
      "  much/JJ\n",
      "  as/IN\n",
      "  possible/JJ\n",
      "  about/IN\n",
      "  the/DT\n",
      "  people/NNS\n",
      "  who/WP\n",
      "  use/VBP\n",
      "  its/PRP$\n",
      "  service/NN\n",
      "  ,/,\n",
      "  and/CC\n",
      "  those/DT\n",
      "  who/WP\n",
      "  don/VBP\n",
      "  ’/JJ\n",
      "  t/NN\n",
      "  ./.) \n",
      "\n",
      "(NE Uber/NNP) \n",
      "\n",
      "(S\n",
      "  (NE Beyond/NN)\n",
      "  that/IN\n",
      "  ,/,\n",
      "  it/PRP\n",
      "  keeps/VBZ\n",
      "  track/NN\n",
      "  of/IN\n",
      "  the/DT\n",
      "  phones/NNS\n",
      "  that/WDT\n",
      "  have/VBP\n",
      "  been/VBN\n",
      "  used/VBN\n",
      "  to/TO\n",
      "  summon/VB\n",
      "  its/PRP$\n",
      "  services/NNS\n",
      "  even/RB\n",
      "  after/IN\n",
      "  the/DT\n",
      "  original/JJ\n",
      "  owner/NN\n",
      "  has/VBZ\n",
      "  sold/VBN\n",
      "  them/PRP\n",
      "  ,/,\n",
      "  attempting/VBG\n",
      "  this/DT\n",
      "  with/IN\n",
      "  (NE Apple/NNP)\n",
      "  ’/NNP\n",
      "  s/VBP\n",
      "  phones/NNS\n",
      "  even/RB\n",
      "  thought/VBD\n",
      "  it/PRP\n",
      "  is/VBZ\n",
      "  forbidden/VBN\n",
      "  by/IN\n",
      "  the/DT\n",
      "  company/NN\n",
      "  ./.) \n",
      "\n",
      "(NE Beyond/NN) \n",
      "\n",
      "(S\n",
      "  (NE Beyond/NN)\n",
      "  that/IN\n",
      "  ,/,\n",
      "  it/PRP\n",
      "  keeps/VBZ\n",
      "  track/NN\n",
      "  of/IN\n",
      "  the/DT\n",
      "  phones/NNS\n",
      "  that/WDT\n",
      "  have/VBP\n",
      "  been/VBN\n",
      "  used/VBN\n",
      "  to/TO\n",
      "  summon/VB\n",
      "  its/PRP$\n",
      "  services/NNS\n",
      "  even/RB\n",
      "  after/IN\n",
      "  the/DT\n",
      "  original/JJ\n",
      "  owner/NN\n",
      "  has/VBZ\n",
      "  sold/VBN\n",
      "  them/PRP\n",
      "  ,/,\n",
      "  attempting/VBG\n",
      "  this/DT\n",
      "  with/IN\n",
      "  (NE Apple/NNP)\n",
      "  ’/NNP\n",
      "  s/VBP\n",
      "  phones/NNS\n",
      "  even/RB\n",
      "  thought/VBD\n",
      "  it/PRP\n",
      "  is/VBZ\n",
      "  forbidden/VBN\n",
      "  by/IN\n",
      "  the/DT\n",
      "  company/NN\n",
      "  ./.) \n",
      "\n",
      "(NE Apple/NNP) \n",
      "\n",
      "(S\n",
      "  (NE Uber/NNP)\n",
      "  has/VBZ\n",
      "  also/RB\n",
      "  tweaked/VBN\n",
      "  its/PRP$\n",
      "  software/NN\n",
      "  so/IN\n",
      "  that/DT\n",
      "  regulatory/JJ\n",
      "  agencies/NNS\n",
      "  that/IN\n",
      "  the/DT\n",
      "  company/NN\n",
      "  regarded/VBD\n",
      "  as/IN\n",
      "  hostile/NN\n",
      "  would/MD\n",
      "  ,/,\n",
      "  when/WRB\n",
      "  they/PRP\n",
      "  tried/VBD\n",
      "  to/TO\n",
      "  hire/VB\n",
      "  a/DT\n",
      "  driver/NN\n",
      "  ,/,\n",
      "  be/VB\n",
      "  given/VBN\n",
      "  false/JJ\n",
      "  reports/NNS\n",
      "  about/IN\n",
      "  the/DT\n",
      "  location/NN\n",
      "  of/IN\n",
      "  its/PRP$\n",
      "  cars/NNS\n",
      "  ./.) \n",
      "\n",
      "(NE Uber/NNP) \n",
      "\n",
      "(S\n",
      "  (NE Uber/NNP)\n",
      "  promised/VBD\n",
      "  not/RB\n",
      "  to/TO\n",
      "  use/VB\n",
      "  this/DT\n",
      "  “/NN\n",
      "  greyball/NN\n",
      "  ”/NNP\n",
      "  software/NN\n",
      "  against/IN\n",
      "  law/NN\n",
      "  enforcement/NN\n",
      "  –/NNP\n",
      "  one/NN\n",
      "  wonders/VBZ\n",
      "  what/WDT\n",
      "  would/MD\n",
      "  happen/VB\n",
      "  to/TO\n",
      "  someone/NN\n",
      "  carrying/VBG\n",
      "  a/DT\n",
      "  knife/NN\n",
      "  who/WP\n",
      "  promised/VBD\n",
      "  never/RB\n",
      "  to/TO\n",
      "  stab/VB\n",
      "  a/DT\n",
      "  policeman/NN\n",
      "  with/IN\n",
      "  it/PRP\n",
      "  ./.) \n",
      "\n",
      "(NE Uber/NNP) \n",
      "\n",
      "(S\n",
      "  (NE Travis/NNP Kalanick/NNP)\n",
      "  of/IN\n",
      "  Uber/NNP\n",
      "  got/VBD\n",
      "  a/DT\n",
      "  personal/JJ\n",
      "  dressing/VBG\n",
      "  down/RP\n",
      "  from/IN\n",
      "  (NE Tim/NNP Cook/NNP)\n",
      "  ,/,\n",
      "  who/WP\n",
      "  runs/VBZ\n",
      "  (NE Apple/NNP)\n",
      "  ,/,\n",
      "  but/CC\n",
      "  the/DT\n",
      "  company/NN\n",
      "  did/VBD\n",
      "  not/RB\n",
      "  prohibit/VB\n",
      "  the/DT\n",
      "  use/NN\n",
      "  of/IN\n",
      "  the/DT\n",
      "  app/NN\n",
      "  ./.) \n",
      "\n",
      "(NE Travis/NNP Kalanick/NNP) \n",
      "\n",
      "(S\n",
      "  (NE Travis/NNP Kalanick/NNP)\n",
      "  of/IN\n",
      "  Uber/NNP\n",
      "  got/VBD\n",
      "  a/DT\n",
      "  personal/JJ\n",
      "  dressing/VBG\n",
      "  down/RP\n",
      "  from/IN\n",
      "  (NE Tim/NNP Cook/NNP)\n",
      "  ,/,\n",
      "  who/WP\n",
      "  runs/VBZ\n",
      "  (NE Apple/NNP)\n",
      "  ,/,\n",
      "  but/CC\n",
      "  the/DT\n",
      "  company/NN\n",
      "  did/VBD\n",
      "  not/RB\n",
      "  prohibit/VB\n",
      "  the/DT\n",
      "  use/NN\n",
      "  of/IN\n",
      "  the/DT\n",
      "  app/NN\n",
      "  ./.) \n",
      "\n",
      "(NE Tim/NNP Cook/NNP) \n",
      "\n",
      "(S\n",
      "  (NE Travis/NNP Kalanick/NNP)\n",
      "  of/IN\n",
      "  Uber/NNP\n",
      "  got/VBD\n",
      "  a/DT\n",
      "  personal/JJ\n",
      "  dressing/VBG\n",
      "  down/RP\n",
      "  from/IN\n",
      "  (NE Tim/NNP Cook/NNP)\n",
      "  ,/,\n",
      "  who/WP\n",
      "  runs/VBZ\n",
      "  (NE Apple/NNP)\n",
      "  ,/,\n",
      "  but/CC\n",
      "  the/DT\n",
      "  company/NN\n",
      "  did/VBD\n",
      "  not/RB\n",
      "  prohibit/VB\n",
      "  the/DT\n",
      "  use/NN\n",
      "  of/IN\n",
      "  the/DT\n",
      "  app/NN\n",
      "  ./.) \n",
      "\n",
      "(NE Apple/NNP) \n",
      "\n",
      "(S\n",
      "  (NE Silicon/NNP Valley/NNP)\n",
      "  ’/NNP\n",
      "  s/JJ\n",
      "  culture/NN\n",
      "  seems/VBZ\n",
      "  hostile/JJ\n",
      "  to/TO\n",
      "  humane/NN\n",
      "  and/CC\n",
      "  democratic/JJ\n",
      "  values/NNS\n",
      "  ./.) \n",
      "\n",
      "(NE Silicon/NNP Valley/NNP) \n",
      "\n",
      "(S\n",
      "  The/DT\n",
      "  outgoing/VBG\n",
      "  (NE CEO/NNP)\n",
      "  of/IN\n",
      "  (NE Yahoo/NNP)\n",
      "  ,/,\n",
      "  (NE Marissa/NNP Mayer/NNP)\n",
      "  ,/,\n",
      "  who/WP\n",
      "  is/VBZ\n",
      "  widely/RB\n",
      "  judged/VBN\n",
      "  to/TO\n",
      "  have/VB\n",
      "  been/VBN\n",
      "  a/DT\n",
      "  failure/NN\n",
      "  ,/,\n",
      "  is/VBZ\n",
      "  likely/JJ\n",
      "  to/TO\n",
      "  get/VB\n",
      "  a/DT\n",
      "  $/$\n",
      "  186m/CD\n",
      "  payout/NN\n",
      "  ./.) \n",
      "\n",
      "(NE CEO/NNP) \n",
      "\n",
      "(S\n",
      "  The/DT\n",
      "  outgoing/VBG\n",
      "  (NE CEO/NNP)\n",
      "  of/IN\n",
      "  (NE Yahoo/NNP)\n",
      "  ,/,\n",
      "  (NE Marissa/NNP Mayer/NNP)\n",
      "  ,/,\n",
      "  who/WP\n",
      "  is/VBZ\n",
      "  widely/RB\n",
      "  judged/VBN\n",
      "  to/TO\n",
      "  have/VB\n",
      "  been/VBN\n",
      "  a/DT\n",
      "  failure/NN\n",
      "  ,/,\n",
      "  is/VBZ\n",
      "  likely/JJ\n",
      "  to/TO\n",
      "  get/VB\n",
      "  a/DT\n",
      "  $/$\n",
      "  186m/CD\n",
      "  payout/NN\n",
      "  ./.) \n",
      "\n",
      "(NE Yahoo/NNP) \n",
      "\n",
      "(S\n",
      "  The/DT\n",
      "  outgoing/VBG\n",
      "  (NE CEO/NNP)\n",
      "  of/IN\n",
      "  (NE Yahoo/NNP)\n",
      "  ,/,\n",
      "  (NE Marissa/NNP Mayer/NNP)\n",
      "  ,/,\n",
      "  who/WP\n",
      "  is/VBZ\n",
      "  widely/RB\n",
      "  judged/VBN\n",
      "  to/TO\n",
      "  have/VB\n",
      "  been/VBN\n",
      "  a/DT\n",
      "  failure/NN\n",
      "  ,/,\n",
      "  is/VBZ\n",
      "  likely/JJ\n",
      "  to/TO\n",
      "  get/VB\n",
      "  a/DT\n",
      "  $/$\n",
      "  186m/CD\n",
      "  payout/NN\n",
      "  ./.) \n",
      "\n",
      "(NE Marissa/NNP Mayer/NNP) \n",
      "\n"
     ]
    }
   ],
   "source": [
    "# Tokenize the article into sentences: sentences\n",
    "sentences = sent_tokenize(article)\n",
    "# print(sentences,'\\n')\n",
    "# Tokenize each sentence into words: token_sentences\n",
    "token_sentences = [word_tokenize(sent) for sent in sentences]\n",
    "# print(token_sentences,'\\n')\n",
    "# Tag each tokenized sentence into parts of speech: pos_sentences\n",
    "pos_sentences = [nltk.pos_tag(sent) for sent in token_sentences] \n",
    "print(pos_sentences,'\\n')\n",
    "# Create the named entity chunks: chunked_sentences\n",
    "chunked_sentences = nltk.ne_chunk_sents(pos_sentences, binary=True)\n",
    "# print(chunked_sentences,'\\n')\n",
    "# Test for stems of the tree with 'NE' tags\n",
    "for sent in chunked_sentences:\n",
    "    for chunk in sent:\n",
    "        if hasattr(chunk, \"label\") and chunk.label() == \"NE\":\n",
    "            print(sent,'\\n')\n",
    "            print(chunk,'\\n')"
   ]
  },
  {
   "cell_type": "markdown",
   "metadata": {},
   "source": [
    "### Charting practice:"
   ]
  },
  {
   "cell_type": "code",
   "execution_count": 34,
   "metadata": {},
   "outputs": [],
   "source": [
    "# Create the defaultdict: ner_categories\n",
    "ner_categories = defaultdict(int)\n",
    "chunked_sentences = nltk.ne_chunk_sents(pos_sentences)"
   ]
  },
  {
   "cell_type": "code",
   "execution_count": 35,
   "metadata": {},
   "outputs": [],
   "source": [
    "# Create the nested for loop\n",
    "for sent in chunked_sentences:\n",
    "    for chunk in sent:\n",
    "        if hasattr(chunk, 'label'):\n",
    "            ner_categories[chunk.label()] += 1\n",
    "            \n",
    "# Create a list from the dictionary keys for the chart labels: labels\n",
    "labels = list(ner_categories.keys())"
   ]
  },
  {
   "cell_type": "code",
   "execution_count": 36,
   "metadata": {},
   "outputs": [
    {
     "data": {
      "image/png": "[encoded data removed]",
      "text/plain": [
       "<Figure size 432x288 with 1 Axes>"
      ]
     },
     "metadata": {},
     "output_type": "display_data"
    }
   ],
   "source": [
    "# Create a list of the values: values\n",
    "values = [ner_categories.get(v) for v in labels]\n",
    "\n",
    "# Create the pie chart\n",
    "plt.pie(values, labels=labels, autopct='%1.1f%%', startangle=140)\n",
    "\n",
    "# Display the chart\n",
    "plt.show()"
   ]
  },
  {
   "cell_type": "markdown",
   "metadata": {},
   "source": [
    "### Introduction to SpaCy"
   ]
  },
  {
   "cell_type": "markdown",
   "metadata": {},
   "source": [
    "conda install -c conda-forge spacy\n",
    "python -m spacy download en_core_web_sm"
   ]
  },
  {
   "cell_type": "code",
   "execution_count": 37,
   "metadata": {},
   "outputs": [
    {
     "name": "stdout",
     "output_type": "stream",
     "text": [
      "ORG unroll.me\n",
      "ORG Apple\n",
      "PERSON Travis Kalanick\n",
      "PERSON Tim Cook\n",
      "ORG Apple\n",
      "CARDINAL Millions\n",
      "PERSON Uber\n",
      "LOC Silicon Valley\n",
      "ORG Yahoo\n",
      "PERSON Marissa Mayer\n",
      "MONEY 186\n"
     ]
    }
   ],
   "source": [
    "# Import spacy\n",
    "import en_core_web_sm\n",
    "# Instantiate the English model: nlp\n",
    "nlp = en_core_web_sm.load()\n",
    "# Create a new document: doc\n",
    "doc = nlp(article)\n",
    "\n",
    "# Print all of the found entities and their labels\n",
    "for ent in doc.ents:\n",
    "    print(ent.label_, ent.text)\n"
   ]
  },
  {
   "cell_type": "markdown",
   "metadata": {},
   "source": [
    "### Multilingual NER with polyglot"
   ]
  },
  {
   "cell_type": "markdown",
   "metadata": {},
   "source": [
    "#### French NER with polyglot I"
   ]
  },
  {
   "cell_type": "code",
   "execution_count": 38,
   "metadata": {},
   "outputs": [],
   "source": [
    "french_article = \"\\ufeffédition abonné\\r\\n\\r\\n\\r\\nDans une tribune au « Monde », l’universitaire Charles Cuvelliez estime que le fantasme d’un remplacement de l’homme par l’algorithme et le robot repose sur un malentendu.\\r\\n\\r\\n\\r\\nLe Monde | 10.05.2017 à 06h44 • Mis à jour le 10.05.2017 à 09h47 | Par Charles Cuvelliez (Professeur à l’Ecole polytechnique de l'université libre de Bruxelles)\\r\\n\\r\\n\\r\\nTRIBUNE. L’usage morbide, par certains, de Facebook Live a amené son fondateur à annoncer précipitamment le recrutement de 3 000 modérateurs supplémentaires. Il est vrai que l’intelligence artificielle (IA) est bien en peine de reconnaître des contenus violents, surtout diffusés en direct.\\r\\n\\r\\n\\r\\nLe quotidien affreux de ces modérateurs, contraints de visionner des horreurs à longueur de journée, mériterait pourtant qu’on les remplace vite par des machines !\\r\\n\\r\\n\\r\\nL’IA ne peut pas tout, mais là où elle peut beaucoup, on la maudit, accusée de détruire nos emplois, de remplacer la convivialité humaine. Ce débat repose sur un malentendu.\\r\\n\\r\\n\\r\\nIl vient d’une définition de l’IA qui n’a, dans la réalité, jamais pu être mise en pratique : en 1955, elle était vue comme la création de programmes informatiques qui, quoi qu’on leur confie, le feraient un jour mieux que les humains. On pensait que toute caractéristique de l’intelligence humaine pourrait un jour être si précisément décrite qu’il suffirait d’une machine pour la simuler. Ce n’est pas vrai.\\r\\n\\r\\n\\r\\nAngoisses infondées\\r\\n\\r\\n\\r\\nComme le dit un récent Livre blanc sur la question (Pourquoi il ne faut pas avoir peur de l’Intelligence arti\\xadficielle, Julien Maldonato, Deloitte, mars 2017), rien ne pourra remplacer un humain dans sa globalité.\\r\\n\\r\\n\\r\\nL’IA, c’est de l’apprentissage automatique doté d’un processus d’ajustement de modèles statistiques à des masses de données, explique l’auteur. Il s’agit d’un apprentissage sur des paramètres pour lesquels une vision humaine n’explique pas pourquoi ils marchent si bien dans un contexte donné.\\r\\n\\r\\n\\r\\nC’est aussi ce que dit le rapport de l’Office parlementaire d’évaluation des choix scientifiques et technologiques (« Pour une intelligence artificielle maîtrisée, utile et démystifiée », 29 mars 2017), pour qui ce côté « boîte noire » explique des angoisses infondées. Ethiquement, se fonder sur l’IA pour des tâches critiques sans bien comprendre le comment...\""
   ]
  },
  {
   "cell_type": "markdown",
   "metadata": {},
   "source": [
    "!pip install G:\\datacamp\\installments\\wheels\\pycld2-0.41-cp38-cp38-win_amd64.whl"
   ]
  },
  {
   "cell_type": "markdown",
   "metadata": {},
   "source": [
    "!pip install G:\\datacamp\\installments\\wheels\\PyICU-2.6-cp38-cp38-win_amd64.whl"
   ]
  },
  {
   "cell_type": "markdown",
   "metadata": {},
   "source": [
    "!pip install morfessor "
   ]
  },
  {
   "cell_type": "markdown",
   "metadata": {},
   "source": [
    "!pip install futures"
   ]
  },
  {
   "cell_type": "markdown",
   "metadata": {},
   "source": [
    "!pip install wheel"
   ]
  },
  {
   "cell_type": "markdown",
   "metadata": {},
   "source": [
    "!pip install PyICU"
   ]
  },
  {
   "cell_type": "markdown",
   "metadata": {},
   "source": [
    "!pip install six"
   ]
  },
  {
   "cell_type": "markdown",
   "metadata": {},
   "source": [
    "!pip install numpy"
   ]
  },
  {
   "cell_type": "code",
   "execution_count": 39,
   "metadata": {},
   "outputs": [],
   "source": [
    "import polyglot\n",
    "from polyglot.text import Text,Word"
   ]
  },
  {
   "cell_type": "markdown",
   "metadata": {},
   "source": [
    "from polyglot.downloader import downloader"
   ]
  },
  {
   "cell_type": "markdown",
   "metadata": {},
   "source": [
    "downloader.download('TASK:embeddings2')\n",
    "downloader.download('TASK:ner2')"
   ]
  },
  {
   "cell_type": "code",
   "execution_count": 40,
   "metadata": {},
   "outputs": [
    {
     "name": "stdout",
     "output_type": "stream",
     "text": [
      "['Charles', 'Cuvelliez']\n",
      "['Charles', 'Cuvelliez']\n",
      "['Bruxelles']\n",
      "['l’IA']\n",
      "['Julien', 'Maldonato']\n",
      "['Deloitte']\n",
      "['Ethiquement']\n",
      "['l’IA']\n",
      "['.']\n",
      "<class 'polyglot.text.Chunk'>\n"
     ]
    }
   ],
   "source": [
    "# Create a new text object using Polyglot's Text class: txt\n",
    "txt = Text(french_article)\n",
    "\n",
    "# Print each of the entities found\n",
    "for ent in txt.entities:\n",
    "    print(ent)\n",
    "    \n",
    "# Print the type of ent\n",
    "print(type(ent))\n"
   ]
  },
  {
   "cell_type": "code",
   "execution_count": 41,
   "metadata": {},
   "outputs": [
    {
     "name": "stdout",
     "output_type": "stream",
     "text": [
      "[('I-PER', 'Charles Cuvelliez'), ('I-PER', 'Charles Cuvelliez'), ('I-ORG', 'Bruxelles'), ('I-PER', 'l’IA'), ('I-PER', 'Julien Maldonato'), ('I-ORG', 'Deloitte'), ('I-PER', 'Ethiquement'), ('I-LOC', 'l’IA'), ('I-PER', '.')]\n"
     ]
    }
   ],
   "source": [
    "# Create the list of tuples: entities\n",
    "entities = [(ent.tag, ' '.join(ent)) for ent in txt.entities]\n",
    "\n",
    "# Print entities\n",
    "print(entities)\n"
   ]
  },
  {
   "cell_type": "code",
   "execution_count": 42,
   "metadata": {},
   "outputs": [
    {
     "name": "stdout",
     "output_type": "stream",
     "text": [
      "[('I-PER', 'Lina'), ('I-PER', 'Castillo'), ('I-PER', 'Teresa Lozano Long'), ('I-ORG', 'Universidad de Texas'), ('I-PER', 'Austin'), ('I-LOC', 'Austin .'), ('I-PER', 'Austin . Ella'), ('I-PER', 'Gabriel García Márquez'), ('I-PER', 'Gabriel García Márquez'), ('I-PER', 'LIna'), ('I-PER', 'Castillo'), ('I-PER', 'García Márquez'), ('I-PER', 'Gabriel García Márquez'), ('I-PER', 'Harry Ransom'), ('I-ORG', 'Harry Ransom Center')]\n"
     ]
    }
   ],
   "source": [
    "spanish_article = \"\"\"Lina del Castillo es profesora en el Instituto de Estudios Latinoamericanos Teresa Lozano Long (LLILAS) y el Departamento de Historia de la Universidad de Texas en Austin. Ella será la moderadora del panel “Los Mundos Políticos de Gabriel García Márquez” este viernes, Oct. 30, en el simposio Gabriel García Márquez: Vida y Legado.\n",
    "\n",
    "LIna del Castillo\n",
    "\n",
    "Actualmente, sus investigaciones abarcan la intersección de cartografía, disputas a las demandas de tierra y recursos, y la formación del n...el tren de medianoche que lleva a miles y miles de cadáveres uno encima del otro como tantos racimos del banano que acabarán tirados al mar. Ningún recuento periodístico podría provocar nuestra imaginación y nuestra memoria como este relato de García Márquez.\n",
    "\n",
    "Contenido Relacionado\n",
    "\n",
    "Lea más artículos sobre el archivo de Gabriel García Márquez\n",
    "\n",
    "Reciba mensualmente las últimas noticias e información del Harry Ransom Center con eNews, nuestro correo electrónico mensual. ¡Suscríbase hoy!\"\"\"\n",
    "\n",
    "txt = Text(spanish_article)\n",
    "\n",
    "\n",
    "# Create the list of tuples: entities\n",
    "entities = [(ent.tag, ' '.join(ent)) for ent in txt.entities]\n",
    "\n",
    "# Print entities\n",
    "print(entities)"
   ]
  },
  {
   "cell_type": "code",
   "execution_count": 43,
   "metadata": {},
   "outputs": [
    {
     "name": "stdout",
     "output_type": "stream",
     "text": [
      "4\n",
      "0.26666666666666666\n"
     ]
    }
   ],
   "source": [
    "# Initialize the count variable: count\n",
    "count = 0\n",
    "\n",
    "# Iterate over all the entities\n",
    "for ent in txt.entities:\n",
    "    # Check whether the entity contains 'Márquez' or 'Gabo'\n",
    "    if 'Márquez' in ent or 'Gabo' in ent:\n",
    "        # Increment count\n",
    "        count = count + 1\n",
    "\n",
    "# Print count\n",
    "print(count)\n",
    "\n",
    "# Calculate the percentage of entities that refer to \"Gabo\": percentage\n",
    "percentage = count / len(txt.entities)\n",
    "print(percentage)\n"
   ]
  },
  {
   "cell_type": "markdown",
   "metadata": {},
   "source": [
    "# <font color='red'>Chapter-4: Building a \"fake news\" classifier</font>"
   ]
  },
  {
   "cell_type": "code",
   "execution_count": 46,
   "metadata": {},
   "outputs": [
    {
     "data": {
      "text/html": [
       "<div>\n",
       "<style scoped>\n",
       "    .dataframe tbody tr th:only-of-type {\n",
       "        vertical-align: middle;\n",
       "    }\n",
       "\n",
       "    .dataframe tbody tr th {\n",
       "        vertical-align: top;\n",
       "    }\n",
       "\n",
       "    .dataframe thead th {\n",
       "        text-align: right;\n",
       "    }\n",
       "</style>\n",
       "<table border=\"1\" class=\"dataframe\">\n",
       "  <thead>\n",
       "    <tr style=\"text-align: right;\">\n",
       "      <th></th>\n",
       "      <th>Unnamed: 0</th>\n",
       "      <th>title</th>\n",
       "      <th>text</th>\n",
       "      <th>label</th>\n",
       "    </tr>\n",
       "  </thead>\n",
       "  <tbody>\n",
       "    <tr>\n",
       "      <th>0</th>\n",
       "      <td>8476</td>\n",
       "      <td>You Can Smell Hillary’s Fear</td>\n",
       "      <td>Daniel Greenfield, a Shillman Journalism Fello...</td>\n",
       "      <td>FAKE</td>\n",
       "    </tr>\n",
       "    <tr>\n",
       "      <th>1</th>\n",
       "      <td>10294</td>\n",
       "      <td>Watch The Exact Moment Paul Ryan Committed Pol...</td>\n",
       "      <td>Google Pinterest Digg Linkedin Reddit Stumbleu...</td>\n",
       "      <td>FAKE</td>\n",
       "    </tr>\n",
       "    <tr>\n",
       "      <th>2</th>\n",
       "      <td>3608</td>\n",
       "      <td>Kerry to go to Paris in gesture of sympathy</td>\n",
       "      <td>U.S. Secretary of State John F. Kerry said Mon...</td>\n",
       "      <td>REAL</td>\n",
       "    </tr>\n",
       "    <tr>\n",
       "      <th>3</th>\n",
       "      <td>10142</td>\n",
       "      <td>Bernie supporters on Twitter erupt in anger ag...</td>\n",
       "      <td>— Kaydee King (@KaydeeKing) November 9, 2016 T...</td>\n",
       "      <td>FAKE</td>\n",
       "    </tr>\n",
       "    <tr>\n",
       "      <th>4</th>\n",
       "      <td>875</td>\n",
       "      <td>The Battle of New York: Why This Primary Matters</td>\n",
       "      <td>It's primary day in New York and front-runners...</td>\n",
       "      <td>REAL</td>\n",
       "    </tr>\n",
       "  </tbody>\n",
       "</table>\n",
       "</div>"
      ],
      "text/plain": [
       "   Unnamed: 0                                              title  \\\n",
       "0        8476                       You Can Smell Hillary’s Fear   \n",
       "1       10294  Watch The Exact Moment Paul Ryan Committed Pol...   \n",
       "2        3608        Kerry to go to Paris in gesture of sympathy   \n",
       "3       10142  Bernie supporters on Twitter erupt in anger ag...   \n",
       "4         875   The Battle of New York: Why This Primary Matters   \n",
       "\n",
       "                                                text label  \n",
       "0  Daniel Greenfield, a Shillman Journalism Fello...  FAKE  \n",
       "1  Google Pinterest Digg Linkedin Reddit Stumbleu...  FAKE  \n",
       "2  U.S. Secretary of State John F. Kerry said Mon...  REAL  \n",
       "3  — Kaydee King (@KaydeeKing) November 9, 2016 T...  FAKE  \n",
       "4  It's primary day in New York and front-runners...  REAL  "
      ]
     },
     "execution_count": 46,
     "metadata": {},
     "output_type": "execute_result"
    }
   ],
   "source": [
    "import pandas as pd\n",
    "df = pd.read_csv('fake_or_real_news.csv')\n",
    "df.head(5)"
   ]
  },
  {
   "cell_type": "code",
   "execution_count": 47,
   "metadata": {},
   "outputs": [
    {
     "name": "stdout",
     "output_type": "stream",
     "text": [
      "   Unnamed: 0                                              title  \\\n",
      "0        8476                       You Can Smell Hillary’s Fear   \n",
      "1       10294  Watch The Exact Moment Paul Ryan Committed Pol...   \n",
      "2        3608        Kerry to go to Paris in gesture of sympathy   \n",
      "3       10142  Bernie supporters on Twitter erupt in anger ag...   \n",
      "4         875   The Battle of New York: Why This Primary Matters   \n",
      "\n",
      "                                                text label  \n",
      "0  Daniel Greenfield, a Shillman Journalism Fello...  FAKE  \n",
      "1  Google Pinterest Digg Linkedin Reddit Stumbleu...  FAKE  \n",
      "2  U.S. Secretary of State John F. Kerry said Mon...  REAL  \n",
      "3  — Kaydee King (@KaydeeKing) November 9, 2016 T...  FAKE  \n",
      "4  It's primary day in New York and front-runners...  REAL  \n",
      "['00', '000', '0000', '00000031', '000035', '00006', '0001', '0001pt', '000ft', '000km']\n"
     ]
    }
   ],
   "source": [
    "# Import the necessary modules\n",
    "from sklearn.feature_extraction.text import CountVectorizer\n",
    "from sklearn.model_selection import train_test_split\n",
    "\n",
    "# Print the head of df\n",
    "print(df.head())\n",
    "\n",
    "# Create a series to store the labels: y\n",
    "y = df.label\n",
    "\n",
    "# Create training and test sets\n",
    "X_train, X_test, y_train, y_test = train_test_split(df['text'],y,test_size=0.33,random_state=53)\n",
    "\n",
    "# Initialize a CountVectorizer object: count_vectorizer\n",
    "count_vectorizer = CountVectorizer(stop_words='english')\n",
    "\n",
    "# Transform the training data using only the 'text' column values: count_train \n",
    "count_train = count_vectorizer.fit_transform(X_train)\n",
    "\n",
    "# Transform the test data using only the 'text' column values: count_test \n",
    "count_test = count_vectorizer.transform(X_test)\n",
    "\n",
    "# Print the first 10 features of the count_vectorizer\n",
    "print(count_vectorizer.get_feature_names()[:10])"
   ]
  },
  {
   "cell_type": "code",
   "execution_count": 48,
   "metadata": {},
   "outputs": [
    {
     "name": "stdout",
     "output_type": "stream",
     "text": [
      "['00', '000', '0000', '00000031', '000035', '00006', '0001', '0001pt', '000ft', '000km']\n",
      "[[0. 0. 0. ... 0. 0. 0.]\n",
      " [0. 0. 0. ... 0. 0. 0.]\n",
      " [0. 0. 0. ... 0. 0. 0.]\n",
      " [0. 0. 0. ... 0. 0. 0.]\n",
      " [0. 0. 0. ... 0. 0. 0.]]\n"
     ]
    }
   ],
   "source": [
    "# Import TfidfVectorizer\n",
    "from sklearn.feature_extraction.text import TfidfVectorizer\n",
    "\n",
    "# Initialize a TfidfVectorizer object: tfidf_vectorizer\n",
    "tfidf_vectorizer = TfidfVectorizer(stop_words='english',max_df = 0.7)\n",
    "\n",
    "# Transform the training data: tfidf_train \n",
    "tfidf_train = tfidf_vectorizer.fit_transform(X_train)\n",
    "\n",
    "# Transform the test data: tfidf_test \n",
    "tfidf_test = tfidf_vectorizer.transform(X_test)\n",
    "\n",
    "# Print the first 10 features\n",
    "print(tfidf_vectorizer.get_feature_names()[:10])\n",
    "\n",
    "# Print the first 5 vectors of the tfidf training data\n",
    "print(tfidf_train.A[:5])\n"
   ]
  },
  {
   "cell_type": "code",
   "execution_count": null,
   "metadata": {},
   "outputs": [],
   "source": [
    "# Create the CountVectorizer DataFrame: count_df\n",
    "count_df = pd.DataFrame(count_train.A, columns= count_vectorizer.get_feature_names())\n",
    "\n",
    "# Create the TfidfVectorizer DataFrame: tfidf_df\n",
    "tfidf_df = pd.DataFrame(tfidf_train.A,columns = tfidf_vectorizer.get_feature_names())\n",
    "\n",
    "# Print the head of count_df\n",
    "print(count_df.head())\n",
    "\n",
    "# Print the head of tfidf_df\n",
    "print(tfidf_df.head())\n",
    "\n",
    "# Calculate the difference in columns: difference\n",
    "difference = set(count_df.columns) - set(tfidf_df.columns)\n",
    "print(difference)\n",
    "\n",
    "# Check whether the DataFrames are equal\n",
    "print(count_df.equals(tfidf_df))\n"
   ]
  },
  {
   "cell_type": "code",
   "execution_count": null,
   "metadata": {},
   "outputs": [],
   "source": []
  },
  {
   "cell_type": "code",
   "execution_count": null,
   "metadata": {},
   "outputs": [],
   "source": []
  },
  {
   "cell_type": "code",
   "execution_count": null,
   "metadata": {},
   "outputs": [],
   "source": []
  }
 ],
 "metadata": {
  "kernelspec": {
   "display_name": "Python 3",
   "language": "python",
   "name": "python3"
  },
  "language_info": {
   "codemirror_mode": {
    "name": "ipython",
    "version": 3
   },
   "file_extension": ".py",
   "mimetype": "text/x-python",
   "name": "python",
   "nbconvert_exporter": "python",
   "pygments_lexer": "ipython3",
   "version": "3.8.3"
  }
 },
 "nbformat": 4,
 "nbformat_minor": 4
}
